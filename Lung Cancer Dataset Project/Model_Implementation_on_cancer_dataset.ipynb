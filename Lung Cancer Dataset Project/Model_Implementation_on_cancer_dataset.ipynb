{
  "nbformat": 4,
  "nbformat_minor": 0,
  "metadata": {
    "colab": {
      "provenance": []
    },
    "kernelspec": {
      "name": "python3",
      "display_name": "Python 3"
    },
    "language_info": {
      "name": "python"
    }
  },
  "cells": [
    {
      "cell_type": "markdown",
      "source": [
        "# Group 2\n",
        "\n",
        "* Vatsalya Krishan Maurya\n",
        "* Swathi G\n",
        "* Thejaswi S\n"
      ],
      "metadata": {
        "id": "3ON16VFKdLIM"
      }
    },
    {
      "cell_type": "code",
      "execution_count": null,
      "metadata": {
        "id": "X7BXhUsd7sVI"
      },
      "outputs": [],
      "source": [
        "from google.colab import auth\n",
        "from googleapiclient.discovery import build\n",
        "from googleapiclient.http import MediaIoBaseDownload\n",
        "import pandas as pd\n",
        "\n",
        "auth.authenticate_user()"
      ]
    },
    {
      "cell_type": "code",
      "source": [
        "!pip install gspread pandas\n",
        "\n",
        "from google.colab import auth\n",
        "from google.auth import default\n",
        "\n",
        "auth.authenticate_user()\n",
        "creds, _ = default()"
      ],
      "metadata": {
        "colab": {
          "base_uri": "https://localhost:8080/"
        },
        "id": "r7wTSIT_8rMC",
        "outputId": "2b4d4c43-1137-4047-a86b-8e8ee1623b1d"
      },
      "execution_count": null,
      "outputs": [
        {
          "output_type": "stream",
          "name": "stdout",
          "text": [
            "Requirement already satisfied: gspread in /usr/local/lib/python3.10/dist-packages (6.0.2)\n",
            "Requirement already satisfied: pandas in /usr/local/lib/python3.10/dist-packages (2.2.2)\n",
            "Requirement already satisfied: google-auth>=1.12.0 in /usr/local/lib/python3.10/dist-packages (from gspread) (2.27.0)\n",
            "Requirement already satisfied: google-auth-oauthlib>=0.4.1 in /usr/local/lib/python3.10/dist-packages (from gspread) (1.2.1)\n",
            "Requirement already satisfied: StrEnum==0.4.15 in /usr/local/lib/python3.10/dist-packages (from gspread) (0.4.15)\n",
            "Requirement already satisfied: numpy>=1.22.4 in /usr/local/lib/python3.10/dist-packages (from pandas) (1.26.4)\n",
            "Requirement already satisfied: python-dateutil>=2.8.2 in /usr/local/lib/python3.10/dist-packages (from pandas) (2.8.2)\n",
            "Requirement already satisfied: pytz>=2020.1 in /usr/local/lib/python3.10/dist-packages (from pandas) (2024.2)\n",
            "Requirement already satisfied: tzdata>=2022.7 in /usr/local/lib/python3.10/dist-packages (from pandas) (2024.2)\n",
            "Requirement already satisfied: cachetools<6.0,>=2.0.0 in /usr/local/lib/python3.10/dist-packages (from google-auth>=1.12.0->gspread) (5.5.0)\n",
            "Requirement already satisfied: pyasn1-modules>=0.2.1 in /usr/local/lib/python3.10/dist-packages (from google-auth>=1.12.0->gspread) (0.4.1)\n",
            "Requirement already satisfied: rsa<5,>=3.1.4 in /usr/local/lib/python3.10/dist-packages (from google-auth>=1.12.0->gspread) (4.9)\n",
            "Requirement already satisfied: requests-oauthlib>=0.7.0 in /usr/local/lib/python3.10/dist-packages (from google-auth-oauthlib>=0.4.1->gspread) (1.3.1)\n",
            "Requirement already satisfied: six>=1.5 in /usr/local/lib/python3.10/dist-packages (from python-dateutil>=2.8.2->pandas) (1.17.0)\n",
            "Requirement already satisfied: pyasn1<0.7.0,>=0.4.6 in /usr/local/lib/python3.10/dist-packages (from pyasn1-modules>=0.2.1->google-auth>=1.12.0->gspread) (0.6.1)\n",
            "Requirement already satisfied: oauthlib>=3.0.0 in /usr/local/lib/python3.10/dist-packages (from requests-oauthlib>=0.7.0->google-auth-oauthlib>=0.4.1->gspread) (3.2.2)\n",
            "Requirement already satisfied: requests>=2.0.0 in /usr/local/lib/python3.10/dist-packages (from requests-oauthlib>=0.7.0->google-auth-oauthlib>=0.4.1->gspread) (2.32.3)\n",
            "Requirement already satisfied: charset-normalizer<4,>=2 in /usr/local/lib/python3.10/dist-packages (from requests>=2.0.0->requests-oauthlib>=0.7.0->google-auth-oauthlib>=0.4.1->gspread) (3.4.0)\n",
            "Requirement already satisfied: idna<4,>=2.5 in /usr/local/lib/python3.10/dist-packages (from requests>=2.0.0->requests-oauthlib>=0.7.0->google-auth-oauthlib>=0.4.1->gspread) (3.10)\n",
            "Requirement already satisfied: urllib3<3,>=1.21.1 in /usr/local/lib/python3.10/dist-packages (from requests>=2.0.0->requests-oauthlib>=0.7.0->google-auth-oauthlib>=0.4.1->gspread) (2.2.3)\n",
            "Requirement already satisfied: certifi>=2017.4.17 in /usr/local/lib/python3.10/dist-packages (from requests>=2.0.0->requests-oauthlib>=0.7.0->google-auth-oauthlib>=0.4.1->gspread) (2024.12.14)\n"
          ]
        }
      ]
    },
    {
      "cell_type": "code",
      "source": [
        "import gspread\n",
        "\n",
        "# Authenticate and access the spreadsheet\n",
        "gc = gspread.authorize(creds)\n",
        "\n",
        "spreadsheet_url = \"https://docs.google.com/spreadsheets/d/1Vy1vuswANehTAZ1RLfzMn7Vae9gLtvltfDP4X6mibHg/edit?gid=1433666743#gid=1433666743\"\n",
        "spreadsheet = gc.open_by_url(spreadsheet_url)\n",
        "\n",
        "# Selecting the first sheet\n",
        "sheet = spreadsheet.sheet1\n",
        "\n",
        "# Fetching data as a DataFrame\n",
        "data = pd.DataFrame(sheet.get_all_records())\n",
        "\n",
        "# Display the data\n",
        "print(data.head())\n"
      ],
      "metadata": {
        "colab": {
          "base_uri": "https://localhost:8080/"
        },
        "id": "E0wv2Etk8tfS",
        "outputId": "4bdf3527-2c09-4be2-8f74-e7db7418247b"
      },
      "execution_count": null,
      "outputs": [
        {
          "output_type": "stream",
          "name": "stdout",
          "text": [
            "  Patient Id  Age  Gender  Air Pollution  Alcohol use  Dust Allergy  \\\n",
            "0         P1   33       1              2            4             5   \n",
            "1        P10   17       1              3            1             5   \n",
            "2       P100   35       1              4            5             6   \n",
            "3      P1000   37       1              7            7             7   \n",
            "4       P101   46       1              6            8             7   \n",
            "\n",
            "   OccuPational Hazards  Genetic Risk  chronic Lung Disease  Balanced Diet  \\\n",
            "0                     4             3                     2              2   \n",
            "1                     3             4                     2              2   \n",
            "2                     5             5                     4              6   \n",
            "3                     7             6                     7              7   \n",
            "4                     7             7                     6              7   \n",
            "\n",
            "   ...  Fatigue  Weight Loss  Shortness of Breath  Wheezing  \\\n",
            "0  ...        3            4                    2         2   \n",
            "1  ...        1            3                    7         8   \n",
            "2  ...        8            7                    9         2   \n",
            "3  ...        4            2                    3         1   \n",
            "4  ...        3            2                    4         1   \n",
            "\n",
            "   Swallowing Difficulty  Clubbing of Finger Nails  Frequent Cold  Dry Cough  \\\n",
            "0                      3                         1              2          3   \n",
            "1                      6                         2              1          7   \n",
            "2                      1                         4              6          7   \n",
            "3                      4                         5              6          7   \n",
            "4                      4                         2              4          2   \n",
            "\n",
            "   Snoring   Level  \n",
            "0        4     Low  \n",
            "1        2  Medium  \n",
            "2        2    High  \n",
            "3        5    High  \n",
            "4        3    High  \n",
            "\n",
            "[5 rows x 25 columns]\n"
          ]
        }
      ]
    },
    {
      "cell_type": "code",
      "source": [
        "data.dtypes"
      ],
      "metadata": {
        "id": "QBpms4hn8wQt",
        "colab": {
          "base_uri": "https://localhost:8080/",
          "height": 868
        },
        "outputId": "17513316-5adf-49d1-ef53-4d99f08ecf0e"
      },
      "execution_count": null,
      "outputs": [
        {
          "output_type": "execute_result",
          "data": {
            "text/plain": [
              "Patient Id                  object\n",
              "Age                          int64\n",
              "Gender                       int64\n",
              "Air Pollution                int64\n",
              "Alcohol use                  int64\n",
              "Dust Allergy                 int64\n",
              "OccuPational Hazards         int64\n",
              "Genetic Risk                 int64\n",
              "chronic Lung Disease         int64\n",
              "Balanced Diet                int64\n",
              "Obesity                      int64\n",
              "Smoking                      int64\n",
              "Passive Smoker               int64\n",
              "Chest Pain                   int64\n",
              "Coughing of Blood            int64\n",
              "Fatigue                      int64\n",
              "Weight Loss                  int64\n",
              "Shortness of Breath          int64\n",
              "Wheezing                     int64\n",
              "Swallowing Difficulty        int64\n",
              "Clubbing of Finger Nails     int64\n",
              "Frequent Cold                int64\n",
              "Dry Cough                    int64\n",
              "Snoring                      int64\n",
              "Level                       object\n",
              "dtype: object"
            ],
            "text/html": [
              "<div>\n",
              "<style scoped>\n",
              "    .dataframe tbody tr th:only-of-type {\n",
              "        vertical-align: middle;\n",
              "    }\n",
              "\n",
              "    .dataframe tbody tr th {\n",
              "        vertical-align: top;\n",
              "    }\n",
              "\n",
              "    .dataframe thead th {\n",
              "        text-align: right;\n",
              "    }\n",
              "</style>\n",
              "<table border=\"1\" class=\"dataframe\">\n",
              "  <thead>\n",
              "    <tr style=\"text-align: right;\">\n",
              "      <th></th>\n",
              "      <th>0</th>\n",
              "    </tr>\n",
              "  </thead>\n",
              "  <tbody>\n",
              "    <tr>\n",
              "      <th>Patient Id</th>\n",
              "      <td>object</td>\n",
              "    </tr>\n",
              "    <tr>\n",
              "      <th>Age</th>\n",
              "      <td>int64</td>\n",
              "    </tr>\n",
              "    <tr>\n",
              "      <th>Gender</th>\n",
              "      <td>int64</td>\n",
              "    </tr>\n",
              "    <tr>\n",
              "      <th>Air Pollution</th>\n",
              "      <td>int64</td>\n",
              "    </tr>\n",
              "    <tr>\n",
              "      <th>Alcohol use</th>\n",
              "      <td>int64</td>\n",
              "    </tr>\n",
              "    <tr>\n",
              "      <th>Dust Allergy</th>\n",
              "      <td>int64</td>\n",
              "    </tr>\n",
              "    <tr>\n",
              "      <th>OccuPational Hazards</th>\n",
              "      <td>int64</td>\n",
              "    </tr>\n",
              "    <tr>\n",
              "      <th>Genetic Risk</th>\n",
              "      <td>int64</td>\n",
              "    </tr>\n",
              "    <tr>\n",
              "      <th>chronic Lung Disease</th>\n",
              "      <td>int64</td>\n",
              "    </tr>\n",
              "    <tr>\n",
              "      <th>Balanced Diet</th>\n",
              "      <td>int64</td>\n",
              "    </tr>\n",
              "    <tr>\n",
              "      <th>Obesity</th>\n",
              "      <td>int64</td>\n",
              "    </tr>\n",
              "    <tr>\n",
              "      <th>Smoking</th>\n",
              "      <td>int64</td>\n",
              "    </tr>\n",
              "    <tr>\n",
              "      <th>Passive Smoker</th>\n",
              "      <td>int64</td>\n",
              "    </tr>\n",
              "    <tr>\n",
              "      <th>Chest Pain</th>\n",
              "      <td>int64</td>\n",
              "    </tr>\n",
              "    <tr>\n",
              "      <th>Coughing of Blood</th>\n",
              "      <td>int64</td>\n",
              "    </tr>\n",
              "    <tr>\n",
              "      <th>Fatigue</th>\n",
              "      <td>int64</td>\n",
              "    </tr>\n",
              "    <tr>\n",
              "      <th>Weight Loss</th>\n",
              "      <td>int64</td>\n",
              "    </tr>\n",
              "    <tr>\n",
              "      <th>Shortness of Breath</th>\n",
              "      <td>int64</td>\n",
              "    </tr>\n",
              "    <tr>\n",
              "      <th>Wheezing</th>\n",
              "      <td>int64</td>\n",
              "    </tr>\n",
              "    <tr>\n",
              "      <th>Swallowing Difficulty</th>\n",
              "      <td>int64</td>\n",
              "    </tr>\n",
              "    <tr>\n",
              "      <th>Clubbing of Finger Nails</th>\n",
              "      <td>int64</td>\n",
              "    </tr>\n",
              "    <tr>\n",
              "      <th>Frequent Cold</th>\n",
              "      <td>int64</td>\n",
              "    </tr>\n",
              "    <tr>\n",
              "      <th>Dry Cough</th>\n",
              "      <td>int64</td>\n",
              "    </tr>\n",
              "    <tr>\n",
              "      <th>Snoring</th>\n",
              "      <td>int64</td>\n",
              "    </tr>\n",
              "    <tr>\n",
              "      <th>Level</th>\n",
              "      <td>object</td>\n",
              "    </tr>\n",
              "  </tbody>\n",
              "</table>\n",
              "</div><br><label><b>dtype:</b> object</label>"
            ]
          },
          "metadata": {},
          "execution_count": 4
        }
      ]
    },
    {
      "cell_type": "code",
      "source": [
        "data.describe()"
      ],
      "metadata": {
        "colab": {
          "base_uri": "https://localhost:8080/",
          "height": 384
        },
        "id": "BWFF_DCuWZNK",
        "outputId": "16a72851-1749-4ca3-c825-9fdae24ee7cb"
      },
      "execution_count": null,
      "outputs": [
        {
          "output_type": "execute_result",
          "data": {
            "text/plain": [
              "               Age       Gender  Air Pollution  Alcohol use  Dust Allergy  \\\n",
              "count  1000.000000  1000.000000      1000.0000  1000.000000   1000.000000   \n",
              "mean     37.174000     1.402000         3.8400     4.563000      5.165000   \n",
              "std      12.005493     0.490547         2.0304     2.620477      1.980833   \n",
              "min      14.000000     1.000000         1.0000     1.000000      1.000000   \n",
              "25%      27.750000     1.000000         2.0000     2.000000      4.000000   \n",
              "50%      36.000000     1.000000         3.0000     5.000000      6.000000   \n",
              "75%      45.000000     2.000000         6.0000     7.000000      7.000000   \n",
              "max      73.000000     2.000000         8.0000     8.000000      8.000000   \n",
              "\n",
              "       OccuPational Hazards  Genetic Risk  chronic Lung Disease  \\\n",
              "count           1000.000000   1000.000000           1000.000000   \n",
              "mean               4.840000      4.580000              4.380000   \n",
              "std                2.107805      2.126999              1.848518   \n",
              "min                1.000000      1.000000              1.000000   \n",
              "25%                3.000000      2.000000              3.000000   \n",
              "50%                5.000000      5.000000              4.000000   \n",
              "75%                7.000000      7.000000              6.000000   \n",
              "max                8.000000      7.000000              7.000000   \n",
              "\n",
              "       Balanced Diet      Obesity  ...  Coughing of Blood      Fatigue  \\\n",
              "count    1000.000000  1000.000000  ...        1000.000000  1000.000000   \n",
              "mean        4.491000     4.465000  ...           4.859000     3.856000   \n",
              "std         2.135528     2.124921  ...           2.427965     2.244616   \n",
              "min         1.000000     1.000000  ...           1.000000     1.000000   \n",
              "25%         2.000000     3.000000  ...           3.000000     2.000000   \n",
              "50%         4.000000     4.000000  ...           4.000000     3.000000   \n",
              "75%         7.000000     7.000000  ...           7.000000     5.000000   \n",
              "max         7.000000     7.000000  ...           9.000000     9.000000   \n",
              "\n",
              "       Weight Loss  Shortness of Breath     Wheezing  Swallowing Difficulty  \\\n",
              "count  1000.000000          1000.000000  1000.000000            1000.000000   \n",
              "mean      3.855000             4.240000     3.777000               3.746000   \n",
              "std       2.206546             2.285087     2.041921               2.270383   \n",
              "min       1.000000             1.000000     1.000000               1.000000   \n",
              "25%       2.000000             2.000000     2.000000               2.000000   \n",
              "50%       3.000000             4.000000     4.000000               4.000000   \n",
              "75%       6.000000             6.000000     5.000000               5.000000   \n",
              "max       8.000000             9.000000     8.000000               8.000000   \n",
              "\n",
              "       Clubbing of Finger Nails  Frequent Cold    Dry Cough      Snoring  \n",
              "count               1000.000000    1000.000000  1000.000000  1000.000000  \n",
              "mean                   3.923000       3.536000     3.853000     2.926000  \n",
              "std                    2.388048       1.832502     2.039007     1.474686  \n",
              "min                    1.000000       1.000000     1.000000     1.000000  \n",
              "25%                    2.000000       2.000000     2.000000     2.000000  \n",
              "50%                    4.000000       3.000000     4.000000     3.000000  \n",
              "75%                    5.000000       5.000000     6.000000     4.000000  \n",
              "max                    9.000000       7.000000     7.000000     7.000000  \n",
              "\n",
              "[8 rows x 23 columns]"
            ],
            "text/html": [
              "\n",
              "  <div id=\"df-b46531cf-3f25-4656-a4e4-8503518e4242\" class=\"colab-df-container\">\n",
              "    <div>\n",
              "<style scoped>\n",
              "    .dataframe tbody tr th:only-of-type {\n",
              "        vertical-align: middle;\n",
              "    }\n",
              "\n",
              "    .dataframe tbody tr th {\n",
              "        vertical-align: top;\n",
              "    }\n",
              "\n",
              "    .dataframe thead th {\n",
              "        text-align: right;\n",
              "    }\n",
              "</style>\n",
              "<table border=\"1\" class=\"dataframe\">\n",
              "  <thead>\n",
              "    <tr style=\"text-align: right;\">\n",
              "      <th></th>\n",
              "      <th>Age</th>\n",
              "      <th>Gender</th>\n",
              "      <th>Air Pollution</th>\n",
              "      <th>Alcohol use</th>\n",
              "      <th>Dust Allergy</th>\n",
              "      <th>OccuPational Hazards</th>\n",
              "      <th>Genetic Risk</th>\n",
              "      <th>chronic Lung Disease</th>\n",
              "      <th>Balanced Diet</th>\n",
              "      <th>Obesity</th>\n",
              "      <th>...</th>\n",
              "      <th>Coughing of Blood</th>\n",
              "      <th>Fatigue</th>\n",
              "      <th>Weight Loss</th>\n",
              "      <th>Shortness of Breath</th>\n",
              "      <th>Wheezing</th>\n",
              "      <th>Swallowing Difficulty</th>\n",
              "      <th>Clubbing of Finger Nails</th>\n",
              "      <th>Frequent Cold</th>\n",
              "      <th>Dry Cough</th>\n",
              "      <th>Snoring</th>\n",
              "    </tr>\n",
              "  </thead>\n",
              "  <tbody>\n",
              "    <tr>\n",
              "      <th>count</th>\n",
              "      <td>1000.000000</td>\n",
              "      <td>1000.000000</td>\n",
              "      <td>1000.0000</td>\n",
              "      <td>1000.000000</td>\n",
              "      <td>1000.000000</td>\n",
              "      <td>1000.000000</td>\n",
              "      <td>1000.000000</td>\n",
              "      <td>1000.000000</td>\n",
              "      <td>1000.000000</td>\n",
              "      <td>1000.000000</td>\n",
              "      <td>...</td>\n",
              "      <td>1000.000000</td>\n",
              "      <td>1000.000000</td>\n",
              "      <td>1000.000000</td>\n",
              "      <td>1000.000000</td>\n",
              "      <td>1000.000000</td>\n",
              "      <td>1000.000000</td>\n",
              "      <td>1000.000000</td>\n",
              "      <td>1000.000000</td>\n",
              "      <td>1000.000000</td>\n",
              "      <td>1000.000000</td>\n",
              "    </tr>\n",
              "    <tr>\n",
              "      <th>mean</th>\n",
              "      <td>37.174000</td>\n",
              "      <td>1.402000</td>\n",
              "      <td>3.8400</td>\n",
              "      <td>4.563000</td>\n",
              "      <td>5.165000</td>\n",
              "      <td>4.840000</td>\n",
              "      <td>4.580000</td>\n",
              "      <td>4.380000</td>\n",
              "      <td>4.491000</td>\n",
              "      <td>4.465000</td>\n",
              "      <td>...</td>\n",
              "      <td>4.859000</td>\n",
              "      <td>3.856000</td>\n",
              "      <td>3.855000</td>\n",
              "      <td>4.240000</td>\n",
              "      <td>3.777000</td>\n",
              "      <td>3.746000</td>\n",
              "      <td>3.923000</td>\n",
              "      <td>3.536000</td>\n",
              "      <td>3.853000</td>\n",
              "      <td>2.926000</td>\n",
              "    </tr>\n",
              "    <tr>\n",
              "      <th>std</th>\n",
              "      <td>12.005493</td>\n",
              "      <td>0.490547</td>\n",
              "      <td>2.0304</td>\n",
              "      <td>2.620477</td>\n",
              "      <td>1.980833</td>\n",
              "      <td>2.107805</td>\n",
              "      <td>2.126999</td>\n",
              "      <td>1.848518</td>\n",
              "      <td>2.135528</td>\n",
              "      <td>2.124921</td>\n",
              "      <td>...</td>\n",
              "      <td>2.427965</td>\n",
              "      <td>2.244616</td>\n",
              "      <td>2.206546</td>\n",
              "      <td>2.285087</td>\n",
              "      <td>2.041921</td>\n",
              "      <td>2.270383</td>\n",
              "      <td>2.388048</td>\n",
              "      <td>1.832502</td>\n",
              "      <td>2.039007</td>\n",
              "      <td>1.474686</td>\n",
              "    </tr>\n",
              "    <tr>\n",
              "      <th>min</th>\n",
              "      <td>14.000000</td>\n",
              "      <td>1.000000</td>\n",
              "      <td>1.0000</td>\n",
              "      <td>1.000000</td>\n",
              "      <td>1.000000</td>\n",
              "      <td>1.000000</td>\n",
              "      <td>1.000000</td>\n",
              "      <td>1.000000</td>\n",
              "      <td>1.000000</td>\n",
              "      <td>1.000000</td>\n",
              "      <td>...</td>\n",
              "      <td>1.000000</td>\n",
              "      <td>1.000000</td>\n",
              "      <td>1.000000</td>\n",
              "      <td>1.000000</td>\n",
              "      <td>1.000000</td>\n",
              "      <td>1.000000</td>\n",
              "      <td>1.000000</td>\n",
              "      <td>1.000000</td>\n",
              "      <td>1.000000</td>\n",
              "      <td>1.000000</td>\n",
              "    </tr>\n",
              "    <tr>\n",
              "      <th>25%</th>\n",
              "      <td>27.750000</td>\n",
              "      <td>1.000000</td>\n",
              "      <td>2.0000</td>\n",
              "      <td>2.000000</td>\n",
              "      <td>4.000000</td>\n",
              "      <td>3.000000</td>\n",
              "      <td>2.000000</td>\n",
              "      <td>3.000000</td>\n",
              "      <td>2.000000</td>\n",
              "      <td>3.000000</td>\n",
              "      <td>...</td>\n",
              "      <td>3.000000</td>\n",
              "      <td>2.000000</td>\n",
              "      <td>2.000000</td>\n",
              "      <td>2.000000</td>\n",
              "      <td>2.000000</td>\n",
              "      <td>2.000000</td>\n",
              "      <td>2.000000</td>\n",
              "      <td>2.000000</td>\n",
              "      <td>2.000000</td>\n",
              "      <td>2.000000</td>\n",
              "    </tr>\n",
              "    <tr>\n",
              "      <th>50%</th>\n",
              "      <td>36.000000</td>\n",
              "      <td>1.000000</td>\n",
              "      <td>3.0000</td>\n",
              "      <td>5.000000</td>\n",
              "      <td>6.000000</td>\n",
              "      <td>5.000000</td>\n",
              "      <td>5.000000</td>\n",
              "      <td>4.000000</td>\n",
              "      <td>4.000000</td>\n",
              "      <td>4.000000</td>\n",
              "      <td>...</td>\n",
              "      <td>4.000000</td>\n",
              "      <td>3.000000</td>\n",
              "      <td>3.000000</td>\n",
              "      <td>4.000000</td>\n",
              "      <td>4.000000</td>\n",
              "      <td>4.000000</td>\n",
              "      <td>4.000000</td>\n",
              "      <td>3.000000</td>\n",
              "      <td>4.000000</td>\n",
              "      <td>3.000000</td>\n",
              "    </tr>\n",
              "    <tr>\n",
              "      <th>75%</th>\n",
              "      <td>45.000000</td>\n",
              "      <td>2.000000</td>\n",
              "      <td>6.0000</td>\n",
              "      <td>7.000000</td>\n",
              "      <td>7.000000</td>\n",
              "      <td>7.000000</td>\n",
              "      <td>7.000000</td>\n",
              "      <td>6.000000</td>\n",
              "      <td>7.000000</td>\n",
              "      <td>7.000000</td>\n",
              "      <td>...</td>\n",
              "      <td>7.000000</td>\n",
              "      <td>5.000000</td>\n",
              "      <td>6.000000</td>\n",
              "      <td>6.000000</td>\n",
              "      <td>5.000000</td>\n",
              "      <td>5.000000</td>\n",
              "      <td>5.000000</td>\n",
              "      <td>5.000000</td>\n",
              "      <td>6.000000</td>\n",
              "      <td>4.000000</td>\n",
              "    </tr>\n",
              "    <tr>\n",
              "      <th>max</th>\n",
              "      <td>73.000000</td>\n",
              "      <td>2.000000</td>\n",
              "      <td>8.0000</td>\n",
              "      <td>8.000000</td>\n",
              "      <td>8.000000</td>\n",
              "      <td>8.000000</td>\n",
              "      <td>7.000000</td>\n",
              "      <td>7.000000</td>\n",
              "      <td>7.000000</td>\n",
              "      <td>7.000000</td>\n",
              "      <td>...</td>\n",
              "      <td>9.000000</td>\n",
              "      <td>9.000000</td>\n",
              "      <td>8.000000</td>\n",
              "      <td>9.000000</td>\n",
              "      <td>8.000000</td>\n",
              "      <td>8.000000</td>\n",
              "      <td>9.000000</td>\n",
              "      <td>7.000000</td>\n",
              "      <td>7.000000</td>\n",
              "      <td>7.000000</td>\n",
              "    </tr>\n",
              "  </tbody>\n",
              "</table>\n",
              "<p>8 rows × 23 columns</p>\n",
              "</div>\n",
              "    <div class=\"colab-df-buttons\">\n",
              "\n",
              "  <div class=\"colab-df-container\">\n",
              "    <button class=\"colab-df-convert\" onclick=\"convertToInteractive('df-b46531cf-3f25-4656-a4e4-8503518e4242')\"\n",
              "            title=\"Convert this dataframe to an interactive table.\"\n",
              "            style=\"display:none;\">\n",
              "\n",
              "  <svg xmlns=\"http://www.w3.org/2000/svg\" height=\"24px\" viewBox=\"0 -960 960 960\">\n",
              "    <path d=\"M120-120v-720h720v720H120Zm60-500h600v-160H180v160Zm220 220h160v-160H400v160Zm0 220h160v-160H400v160ZM180-400h160v-160H180v160Zm440 0h160v-160H620v160ZM180-180h160v-160H180v160Zm440 0h160v-160H620v160Z\"/>\n",
              "  </svg>\n",
              "    </button>\n",
              "\n",
              "  <style>\n",
              "    .colab-df-container {\n",
              "      display:flex;\n",
              "      gap: 12px;\n",
              "    }\n",
              "\n",
              "    .colab-df-convert {\n",
              "      background-color: #E8F0FE;\n",
              "      border: none;\n",
              "      border-radius: 50%;\n",
              "      cursor: pointer;\n",
              "      display: none;\n",
              "      fill: #1967D2;\n",
              "      height: 32px;\n",
              "      padding: 0 0 0 0;\n",
              "      width: 32px;\n",
              "    }\n",
              "\n",
              "    .colab-df-convert:hover {\n",
              "      background-color: #E2EBFA;\n",
              "      box-shadow: 0px 1px 2px rgba(60, 64, 67, 0.3), 0px 1px 3px 1px rgba(60, 64, 67, 0.15);\n",
              "      fill: #174EA6;\n",
              "    }\n",
              "\n",
              "    .colab-df-buttons div {\n",
              "      margin-bottom: 4px;\n",
              "    }\n",
              "\n",
              "    [theme=dark] .colab-df-convert {\n",
              "      background-color: #3B4455;\n",
              "      fill: #D2E3FC;\n",
              "    }\n",
              "\n",
              "    [theme=dark] .colab-df-convert:hover {\n",
              "      background-color: #434B5C;\n",
              "      box-shadow: 0px 1px 3px 1px rgba(0, 0, 0, 0.15);\n",
              "      filter: drop-shadow(0px 1px 2px rgba(0, 0, 0, 0.3));\n",
              "      fill: #FFFFFF;\n",
              "    }\n",
              "  </style>\n",
              "\n",
              "    <script>\n",
              "      const buttonEl =\n",
              "        document.querySelector('#df-b46531cf-3f25-4656-a4e4-8503518e4242 button.colab-df-convert');\n",
              "      buttonEl.style.display =\n",
              "        google.colab.kernel.accessAllowed ? 'block' : 'none';\n",
              "\n",
              "      async function convertToInteractive(key) {\n",
              "        const element = document.querySelector('#df-b46531cf-3f25-4656-a4e4-8503518e4242');\n",
              "        const dataTable =\n",
              "          await google.colab.kernel.invokeFunction('convertToInteractive',\n",
              "                                                    [key], {});\n",
              "        if (!dataTable) return;\n",
              "\n",
              "        const docLinkHtml = 'Like what you see? Visit the ' +\n",
              "          '<a target=\"_blank\" href=https://colab.research.google.com/notebooks/data_table.ipynb>data table notebook</a>'\n",
              "          + ' to learn more about interactive tables.';\n",
              "        element.innerHTML = '';\n",
              "        dataTable['output_type'] = 'display_data';\n",
              "        await google.colab.output.renderOutput(dataTable, element);\n",
              "        const docLink = document.createElement('div');\n",
              "        docLink.innerHTML = docLinkHtml;\n",
              "        element.appendChild(docLink);\n",
              "      }\n",
              "    </script>\n",
              "  </div>\n",
              "\n",
              "\n",
              "<div id=\"df-8811ad06-7afb-4821-bd53-6c2645075cc4\">\n",
              "  <button class=\"colab-df-quickchart\" onclick=\"quickchart('df-8811ad06-7afb-4821-bd53-6c2645075cc4')\"\n",
              "            title=\"Suggest charts\"\n",
              "            style=\"display:none;\">\n",
              "\n",
              "<svg xmlns=\"http://www.w3.org/2000/svg\" height=\"24px\"viewBox=\"0 0 24 24\"\n",
              "     width=\"24px\">\n",
              "    <g>\n",
              "        <path d=\"M19 3H5c-1.1 0-2 .9-2 2v14c0 1.1.9 2 2 2h14c1.1 0 2-.9 2-2V5c0-1.1-.9-2-2-2zM9 17H7v-7h2v7zm4 0h-2V7h2v10zm4 0h-2v-4h2v4z\"/>\n",
              "    </g>\n",
              "</svg>\n",
              "  </button>\n",
              "\n",
              "<style>\n",
              "  .colab-df-quickchart {\n",
              "      --bg-color: #E8F0FE;\n",
              "      --fill-color: #1967D2;\n",
              "      --hover-bg-color: #E2EBFA;\n",
              "      --hover-fill-color: #174EA6;\n",
              "      --disabled-fill-color: #AAA;\n",
              "      --disabled-bg-color: #DDD;\n",
              "  }\n",
              "\n",
              "  [theme=dark] .colab-df-quickchart {\n",
              "      --bg-color: #3B4455;\n",
              "      --fill-color: #D2E3FC;\n",
              "      --hover-bg-color: #434B5C;\n",
              "      --hover-fill-color: #FFFFFF;\n",
              "      --disabled-bg-color: #3B4455;\n",
              "      --disabled-fill-color: #666;\n",
              "  }\n",
              "\n",
              "  .colab-df-quickchart {\n",
              "    background-color: var(--bg-color);\n",
              "    border: none;\n",
              "    border-radius: 50%;\n",
              "    cursor: pointer;\n",
              "    display: none;\n",
              "    fill: var(--fill-color);\n",
              "    height: 32px;\n",
              "    padding: 0;\n",
              "    width: 32px;\n",
              "  }\n",
              "\n",
              "  .colab-df-quickchart:hover {\n",
              "    background-color: var(--hover-bg-color);\n",
              "    box-shadow: 0 1px 2px rgba(60, 64, 67, 0.3), 0 1px 3px 1px rgba(60, 64, 67, 0.15);\n",
              "    fill: var(--button-hover-fill-color);\n",
              "  }\n",
              "\n",
              "  .colab-df-quickchart-complete:disabled,\n",
              "  .colab-df-quickchart-complete:disabled:hover {\n",
              "    background-color: var(--disabled-bg-color);\n",
              "    fill: var(--disabled-fill-color);\n",
              "    box-shadow: none;\n",
              "  }\n",
              "\n",
              "  .colab-df-spinner {\n",
              "    border: 2px solid var(--fill-color);\n",
              "    border-color: transparent;\n",
              "    border-bottom-color: var(--fill-color);\n",
              "    animation:\n",
              "      spin 1s steps(1) infinite;\n",
              "  }\n",
              "\n",
              "  @keyframes spin {\n",
              "    0% {\n",
              "      border-color: transparent;\n",
              "      border-bottom-color: var(--fill-color);\n",
              "      border-left-color: var(--fill-color);\n",
              "    }\n",
              "    20% {\n",
              "      border-color: transparent;\n",
              "      border-left-color: var(--fill-color);\n",
              "      border-top-color: var(--fill-color);\n",
              "    }\n",
              "    30% {\n",
              "      border-color: transparent;\n",
              "      border-left-color: var(--fill-color);\n",
              "      border-top-color: var(--fill-color);\n",
              "      border-right-color: var(--fill-color);\n",
              "    }\n",
              "    40% {\n",
              "      border-color: transparent;\n",
              "      border-right-color: var(--fill-color);\n",
              "      border-top-color: var(--fill-color);\n",
              "    }\n",
              "    60% {\n",
              "      border-color: transparent;\n",
              "      border-right-color: var(--fill-color);\n",
              "    }\n",
              "    80% {\n",
              "      border-color: transparent;\n",
              "      border-right-color: var(--fill-color);\n",
              "      border-bottom-color: var(--fill-color);\n",
              "    }\n",
              "    90% {\n",
              "      border-color: transparent;\n",
              "      border-bottom-color: var(--fill-color);\n",
              "    }\n",
              "  }\n",
              "</style>\n",
              "\n",
              "  <script>\n",
              "    async function quickchart(key) {\n",
              "      const quickchartButtonEl =\n",
              "        document.querySelector('#' + key + ' button');\n",
              "      quickchartButtonEl.disabled = true;  // To prevent multiple clicks.\n",
              "      quickchartButtonEl.classList.add('colab-df-spinner');\n",
              "      try {\n",
              "        const charts = await google.colab.kernel.invokeFunction(\n",
              "            'suggestCharts', [key], {});\n",
              "      } catch (error) {\n",
              "        console.error('Error during call to suggestCharts:', error);\n",
              "      }\n",
              "      quickchartButtonEl.classList.remove('colab-df-spinner');\n",
              "      quickchartButtonEl.classList.add('colab-df-quickchart-complete');\n",
              "    }\n",
              "    (() => {\n",
              "      let quickchartButtonEl =\n",
              "        document.querySelector('#df-8811ad06-7afb-4821-bd53-6c2645075cc4 button');\n",
              "      quickchartButtonEl.style.display =\n",
              "        google.colab.kernel.accessAllowed ? 'block' : 'none';\n",
              "    })();\n",
              "  </script>\n",
              "</div>\n",
              "\n",
              "    </div>\n",
              "  </div>\n"
            ],
            "application/vnd.google.colaboratory.intrinsic+json": {
              "type": "dataframe"
            }
          },
          "metadata": {},
          "execution_count": 5
        }
      ]
    },
    {
      "cell_type": "code",
      "source": [
        "# Data Preprocessing\n",
        "data[\"Level\"] = data[\"Level\"].replace({\"Low\" : 1, \"Medium\" : 2, \"High\" : 3})"
      ],
      "metadata": {
        "colab": {
          "base_uri": "https://localhost:8080/"
        },
        "id": "VbfwQpIK4JWZ",
        "outputId": "c5f34756-275c-4573-c574-cfb21a7c2bb4"
      },
      "execution_count": null,
      "outputs": [
        {
          "output_type": "stream",
          "name": "stderr",
          "text": [
            "<ipython-input-6-067f754e2390>:1: FutureWarning: Downcasting behavior in `replace` is deprecated and will be removed in a future version. To retain the old behavior, explicitly call `result.infer_objects(copy=False)`. To opt-in to the future behavior, set `pd.set_option('future.no_silent_downcasting', True)`\n",
            "  data[\"Level\"] = data[\"Level\"].replace({\"Low\" : 1, \"Medium\" : 2, \"High\" : 3})\n"
          ]
        }
      ]
    },
    {
      "cell_type": "code",
      "source": [
        "data.columns"
      ],
      "metadata": {
        "colab": {
          "base_uri": "https://localhost:8080/"
        },
        "id": "KSRFXkqlyAa7",
        "outputId": "c3265c42-3817-417c-8c32-754c2f953f0f"
      },
      "execution_count": null,
      "outputs": [
        {
          "output_type": "execute_result",
          "data": {
            "text/plain": [
              "Index(['Patient Id', 'Age', 'Gender', 'Air Pollution', 'Alcohol use',\n",
              "       'Dust Allergy', 'OccuPational Hazards', 'Genetic Risk',\n",
              "       'chronic Lung Disease', 'Balanced Diet', 'Obesity', 'Smoking',\n",
              "       'Passive Smoker', 'Chest Pain', 'Coughing of Blood', 'Fatigue',\n",
              "       'Weight Loss', 'Shortness of Breath', 'Wheezing',\n",
              "       'Swallowing Difficulty', 'Clubbing of Finger Nails', 'Frequent Cold',\n",
              "       'Dry Cough', 'Snoring', 'Level'],\n",
              "      dtype='object')"
            ]
          },
          "metadata": {},
          "execution_count": 9
        }
      ]
    },
    {
      "cell_type": "code",
      "source": [
        "# Checking for the null values\n",
        "data.isna().sum()"
      ],
      "metadata": {
        "id": "95EO6Z5FczRC"
      },
      "execution_count": null,
      "outputs": []
    },
    {
      "cell_type": "markdown",
      "source": [
        "# Implementing the K-Nearest Neighbors (KNN) and Random Forest Classifier"
      ],
      "metadata": {
        "id": "6zIbrAf2dp8U"
      }
    },
    {
      "cell_type": "code",
      "source": [
        "data = data.drop(['Patient Id'], axis=1) # Drop 'Patient Id'"
      ],
      "metadata": {
        "id": "YcB0sSCU-wOI"
      },
      "execution_count": null,
      "outputs": []
    },
    {
      "cell_type": "code",
      "source": [
        "import pandas as pd\n",
        "from sklearn.model_selection import train_test_split\n",
        "from sklearn.neighbors import KNeighborsClassifier\n",
        "from sklearn.ensemble import RandomForestClassifier\n",
        "from sklearn.metrics import classification_report, accuracy_score\n",
        "\n",
        "# Preprocessing\n",
        "X = data.drop(['Level'], axis=1)\n",
        "y = data['Level']\n",
        "\n",
        "# Split the data\n",
        "X_train, X_test, y_train, y_test = train_test_split(X, y, test_size=0.2, random_state=42)\n",
        "\n",
        "# K-Nearest Neighbors\n",
        "knn = KNeighborsClassifier(n_neighbors=5)       # n_neighbors define the number of trees which enhance the model\n",
        "knn.fit(X_train, y_train)\n",
        "y_pred_knn = knn.predict(X_test)\n",
        "print(\"KNN Results\")\n",
        "print(classification_report(y_test, y_pred_knn))\n",
        "\n",
        "# Random Forest\n",
        "rf = RandomForestClassifier(n_estimators=100, random_state=42)\n",
        "rf.fit(X_train, y_train)\n",
        "y_pred_rf = rf.predict(X_test)\n",
        "print(\"Random Forest Results\")\n",
        "print(classification_report(y_test, y_pred_rf))\n",
        "\n",
        "# Accuracy Comparison\n",
        "print(\"KNN Accuracy:\", accuracy_score(y_test, y_pred_knn))\n",
        "print(\"Random Forest Accuracy:\", accuracy_score(y_test, y_pred_rf))"
      ],
      "metadata": {
        "id": "hEhifa6pr3vQ",
        "colab": {
          "base_uri": "https://localhost:8080/"
        },
        "outputId": "7aff1da5-df1f-40fe-b064-a2f80d42aa36"
      },
      "execution_count": null,
      "outputs": [
        {
          "output_type": "stream",
          "name": "stdout",
          "text": [
            "KNN Results\n",
            "              precision    recall  f1-score   support\n",
            "\n",
            "           1       1.00      0.98      0.99        55\n",
            "           2       0.98      1.00      0.99        63\n",
            "           3       1.00      1.00      1.00        82\n",
            "\n",
            "    accuracy                           0.99       200\n",
            "   macro avg       0.99      0.99      0.99       200\n",
            "weighted avg       1.00      0.99      0.99       200\n",
            "\n",
            "Random Forest Results\n",
            "              precision    recall  f1-score   support\n",
            "\n",
            "           1       1.00      1.00      1.00        55\n",
            "           2       1.00      1.00      1.00        63\n",
            "           3       1.00      1.00      1.00        82\n",
            "\n",
            "    accuracy                           1.00       200\n",
            "   macro avg       1.00      1.00      1.00       200\n",
            "weighted avg       1.00      1.00      1.00       200\n",
            "\n",
            "KNN Accuracy: 0.995\n",
            "Random Forest Accuracy: 1.0\n"
          ]
        }
      ]
    },
    {
      "cell_type": "code",
      "source": [
        "# Validating Against Overfitting\n",
        "from sklearn.model_selection import cross_val_score\n",
        "\n",
        "knn_scores = cross_val_score(knn, X, y, cv=5)\n",
        "rf_scores = cross_val_score(rf, X, y, cv=5)\n",
        "\n",
        "print(\"KNN Cross-Validation Accuracy:\", knn_scores.mean())\n",
        "print(\"Random Forest Cross-Validation Accuracy:\", rf_scores.mean())"
      ],
      "metadata": {
        "colab": {
          "base_uri": "https://localhost:8080/"
        },
        "id": "p9EJumh_AYtY",
        "outputId": "9bb802bd-cfb4-4e27-bbb3-869c7615f4af"
      },
      "execution_count": null,
      "outputs": [
        {
          "output_type": "stream",
          "name": "stdout",
          "text": [
            "KNN Cross-Validation Accuracy: 0.998\n",
            "Random Forest Cross-Validation Accuracy: 1.0\n"
          ]
        }
      ]
    },
    {
      "cell_type": "markdown",
      "source": [
        "### Feature Engineering"
      ],
      "metadata": {
        "id": "sSHRYQ_FevSx"
      }
    },
    {
      "cell_type": "code",
      "source": [
        "importances = rf.feature_importances_\n",
        "feature_names = X.columns\n",
        "sorted_indices = importances.argsort()\n",
        "print(\"Feature Importances:\", list(zip(feature_names[sorted_indices], importances[sorted_indices])))"
      ],
      "metadata": {
        "colab": {
          "base_uri": "https://localhost:8080/"
        },
        "id": "pEqykl32CQDc",
        "outputId": "6248806c-e7a2-4eef-d15f-e668848640bf"
      },
      "execution_count": null,
      "outputs": [
        {
          "output_type": "stream",
          "name": "stdout",
          "text": [
            "Feature Importances: [('Gender', 0.00037685868404544213), ('Age', 0.005092728590080411), ('Dry Cough', 0.01456979532050248), ('chronic Lung Disease', 0.01727354714428401), ('Frequent Cold', 0.021474785500280546), ('Weight Loss', 0.029376776052981963), ('OccuPational Hazards', 0.03237863256597768), ('Snoring', 0.032401428571631426), ('Dust Allergy', 0.03636726361732389), ('Genetic Risk', 0.037785573170247715), ('Air Pollution', 0.0382288854499305), ('Smoking', 0.038629762086847715), ('Swallowing Difficulty', 0.03891459584732755), ('Alcohol use', 0.04027170290194592), ('Shortness of Breath', 0.04308647929849429), ('Clubbing of Finger Nails', 0.043120800908431), ('Balanced Diet', 0.04339829597638022), ('Chest Pain', 0.04793774348439316), ('Fatigue', 0.0658874619654778), ('Wheezing', 0.07529213793887911), ('Obesity', 0.08562987680601307), ('Passive Smoker', 0.09977681556012781), ('Coughing of Blood', 0.11272805255839626)]\n"
          ]
        }
      ]
    },
    {
      "cell_type": "code",
      "source": [
        "# Dropping low importance features\n",
        "low_importance_features = ['Gender', 'Age', 'Dry Cough', 'chronic Lung Disease']\n",
        "X_new = X.drop(columns=low_importance_features)"
      ],
      "metadata": {
        "id": "HtgbU2xfCdk-"
      },
      "execution_count": null,
      "outputs": []
    },
    {
      "cell_type": "code",
      "source": [
        "# Splitting the data\n",
        "x_train, x_test, Y_train, Y_test = train_test_split(X_new, y, test_size=0.2, random_state=42)\n",
        "\n",
        "# K-Nearest Neighbors\n",
        "knn_feature = KNeighborsClassifier(n_neighbors=5)\n",
        "knn_feature.fit(x_train, Y_train)\n",
        "y_pred_knn_feature = knn_feature.predict(x_test)\n",
        "print(\"KNN Results\")\n",
        "print(classification_report(Y_test, y_pred_knn))\n",
        "\n",
        "# Random Forest\n",
        "rf_feature = RandomForestClassifier(n_estimators=100, random_state=42)\n",
        "rf_feature.fit(x_train, Y_train)\n",
        "y_pred_rf_feature = rf_feature.predict(x_test)\n",
        "print(\"Random Forest Results\")\n",
        "print(classification_report(Y_test, y_pred_rf_feature))\n",
        "\n",
        "# Accuracy Comparison\n",
        "print(\"KNN Accuracy:\", accuracy_score(Y_test, y_pred_knn_feature))\n",
        "print(\"Random Forest Accuracy:\", accuracy_score(Y_test, y_pred_rf_feature))"
      ],
      "metadata": {
        "colab": {
          "base_uri": "https://localhost:8080/"
        },
        "id": "fOx24jlSDBCD",
        "outputId": "2b5792d0-e32a-4d3f-950f-3b98428880af"
      },
      "execution_count": null,
      "outputs": [
        {
          "output_type": "stream",
          "name": "stdout",
          "text": [
            "KNN Results\n",
            "              precision    recall  f1-score   support\n",
            "\n",
            "           1       1.00      0.98      0.99        55\n",
            "           2       0.98      1.00      0.99        63\n",
            "           3       1.00      1.00      1.00        82\n",
            "\n",
            "    accuracy                           0.99       200\n",
            "   macro avg       0.99      0.99      0.99       200\n",
            "weighted avg       1.00      0.99      0.99       200\n",
            "\n",
            "Random Forest Results\n",
            "              precision    recall  f1-score   support\n",
            "\n",
            "           1       1.00      1.00      1.00        55\n",
            "           2       1.00      1.00      1.00        63\n",
            "           3       1.00      1.00      1.00        82\n",
            "\n",
            "    accuracy                           1.00       200\n",
            "   macro avg       1.00      1.00      1.00       200\n",
            "weighted avg       1.00      1.00      1.00       200\n",
            "\n",
            "KNN Accuracy: 1.0\n",
            "Random Forest Accuracy: 1.0\n"
          ]
        }
      ]
    },
    {
      "cell_type": "markdown",
      "source": [
        "### Hyperparameter Tuning\n",
        "\n",
        "We can Optimize hyperparameters using tools like GridSearchCV or RandomizedSearchCV."
      ],
      "metadata": {
        "id": "m4lPBPG6e8WV"
      }
    },
    {
      "cell_type": "markdown",
      "source": [
        "**For KNN:**\n",
        "\n",
        "* Tuning n_neighbors, weights, and p (distance metric)."
      ],
      "metadata": {
        "id": "UupXY6Bpf_q_"
      }
    },
    {
      "cell_type": "code",
      "source": [
        "from sklearn.model_selection import GridSearchCV\n",
        "\n",
        "knn_params = {\n",
        "    'n_neighbors': [3, 5, 7, 9],\n",
        "    'weights': ['uniform', 'distance'],\n",
        "    'p': [1, 2]  # Manhattan or Euclidean distance\n",
        "}\n",
        "knn_grid = GridSearchCV(KNeighborsClassifier(), knn_params, cv=5)\n",
        "knn_grid.fit(X_train, y_train)\n",
        "print(\"Best KNN Params:\", knn_grid.best_params_)\n",
        "print(\"Best KNN Accuracy:\", knn_grid.best_score_)"
      ],
      "metadata": {
        "colab": {
          "base_uri": "https://localhost:8080/"
        },
        "id": "xbc3sg4XDSjn",
        "outputId": "b2560e85-fb01-4171-f186-1c9a6f7dc8cc"
      },
      "execution_count": null,
      "outputs": [
        {
          "output_type": "stream",
          "name": "stdout",
          "text": [
            "Best KNN Params: {'n_neighbors': 3, 'p': 1, 'weights': 'uniform'}\n",
            "Best KNN Accuracy: 1.0\n"
          ]
        }
      ]
    },
    {
      "cell_type": "markdown",
      "source": [
        "**For Random Forest:**\n",
        "\n",
        "* Tuning n_estimators, max_depth, min_samples_split, min_samples_leaf, and max_features."
      ],
      "metadata": {
        "id": "lLwcbJYvgK1q"
      }
    },
    {
      "cell_type": "code",
      "source": [
        "# Parameter Grid for RandomForestClassifier\n",
        "param_grid = {\n",
        "    'n_estimators': [100, 200, 300],  # Number of trees\n",
        "    'max_depth': [None, 10, 20, 30],  # Depth of the tree\n",
        "    'min_samples_split': [2, 5, 10],  # Minimum samples required to split a node\n",
        "    'min_samples_leaf': [1, 2, 4],    # Minimum samples required at each leaf node\n",
        "    'max_features': ['sqrt', 'log2'],\n",
        "}\n",
        "\n",
        "# Performing Grid Search\n",
        "from sklearn.model_selection import GridSearchCV\n",
        "from sklearn.ensemble import RandomForestClassifier\n",
        "\n",
        "rf = RandomForestClassifier(random_state=42)\n",
        "grid_search = GridSearchCV(estimator=rf, param_grid=param_grid, cv=5, scoring='accuracy')\n",
        "grid_search.fit(X_train, y_train)\n",
        "\n",
        "# Best parameters and best score\n",
        "print(\"Best RF Params:\", grid_search.best_params_)\n",
        "print(\"Best RF Accuracy:\", grid_search.best_score_)"
      ],
      "metadata": {
        "colab": {
          "base_uri": "https://localhost:8080/"
        },
        "id": "L1z-QdwHgKSd",
        "outputId": "b22eddde-1607-499a-b3ae-e404ac4d3af8"
      },
      "execution_count": null,
      "outputs": [
        {
          "output_type": "stream",
          "name": "stdout",
          "text": [
            "Best RF Params: {'max_depth': None, 'max_features': 'sqrt', 'min_samples_leaf': 1, 'min_samples_split': 2, 'n_estimators': 100}\n",
            "Best RF Accuracy: 1.0\n"
          ]
        }
      ]
    },
    {
      "cell_type": "markdown",
      "source": [
        "### Ensemble Methods"
      ],
      "metadata": {
        "id": "4M68G9iHi_og"
      }
    },
    {
      "cell_type": "code",
      "source": [
        "# Voting Classifier: Combine predictions from KNN and Random Forest using majority voting.\n",
        "from sklearn.ensemble import VotingClassifier\n",
        "\n",
        "ensemble_model = VotingClassifier(estimators=[\n",
        "    ('knn', knn),\n",
        "    ('rf', rf)\n",
        "], voting='hard')\n",
        "ensemble_model.fit(X_train, y_train)\n",
        "y_pred_ensemble = ensemble_model.predict(X_test)\n",
        "print(\"Ensemble Accuracy:\", accuracy_score(y_test, y_pred_ensemble))"
      ],
      "metadata": {
        "colab": {
          "base_uri": "https://localhost:8080/"
        },
        "id": "i4Lun2QthkCU",
        "outputId": "84bebd39-effb-46d9-b447-6057b62d3fe8"
      },
      "execution_count": null,
      "outputs": [
        {
          "output_type": "stream",
          "name": "stdout",
          "text": [
            "Ensemble Accuracy: 1.0\n"
          ]
        }
      ]
    },
    {
      "cell_type": "code",
      "source": [
        "import matplotlib.pyplot as plt\n",
        "import numpy as np\n",
        "from sklearn.metrics import confusion_matrix, ConfusionMatrixDisplay, classification_report\n",
        "\n",
        "models = [knn, knn_grid.best_estimator_, rf, grid_search.best_estimator_]\n",
        "model_names = ['KNN', 'KNN GridSearchCV', 'Random Forest', 'RF GridSearchCV']\n",
        "accuracies = [0.995, knn_grid.best_score_, 1.0, grid_search.best_score_]\n",
        "\n",
        "# 1. Accuracy Comparison using Bar Plot\n",
        "plt.figure(figsize=(10, 6))\n",
        "plt.bar(model_names, accuracies, color=['blue', 'orange', 'green', 'red'])\n",
        "plt.ylabel(\"Accuracy\")\n",
        "plt.title(\"Model Accuracy Comparison\")\n",
        "plt.ylim(0.9, 1.01)\n",
        "for i, acc in enumerate(accuracies):\n",
        "    plt.text(i, acc + 0.001, f\"{acc:.3f}\", ha='center', fontsize=12)\n",
        "plt.show()\n",
        "\n",
        "# 2. Confusion Matrix\n",
        "def plot_confusion_matrices(models, model_names, X_test, y_test):\n",
        "    fig, axes = plt.subplots(2, 2, figsize=(12, 12))\n",
        "    axes = axes.flatten()\n",
        "\n",
        "    for i, (model, model_name, ax) in enumerate(zip(models, model_names, axes)):\n",
        "        if not hasattr(model, \"classes_\"):  # Check if the model is fitted\n",
        "            raise ValueError(f\"Model {model_name} is not fitted.\")\n",
        "        y_pred = model.predict(X_test)\n",
        "        cm = confusion_matrix(y_test, y_pred)\n",
        "        disp = ConfusionMatrixDisplay(confusion_matrix=cm, display_labels=np.unique(y_test))\n",
        "        disp.plot(ax=ax, colorbar=False)\n",
        "        ax.set_title(f\"Confusion Matrix: {model_name}\")\n",
        "\n",
        "    plt.tight_layout()\n",
        "    plt.show()\n",
        "\n",
        "plot_confusion_matrices(\n",
        "    [knn, knn_grid.best_estimator_, rf, grid_search.best_estimator_],\n",
        "    model_names,\n",
        "    X_test,\n",
        "    y_test\n",
        ")\n",
        "\n",
        "# 3. Classification Report F1-Scores Plot\n",
        "def plot_classification_report(models, model_names, X_test, y_test, labels):\n",
        "    scores = {}\n",
        "    for model_name, model in zip(model_names, models):\n",
        "        if not hasattr(model, \"classes_\"):  # Checking if the model is fitted\n",
        "            raise ValueError(f\"Model {model_name} is not fitted.\")\n",
        "        y_pred = model.predict(X_test)\n",
        "        report = classification_report(y_test, y_pred, target_names=labels, output_dict=True)\n",
        "        scores[model_name] = [report[label]['f1-score'] for label in labels]\n",
        "\n",
        "    x = np.arange(len(labels))\n",
        "    width = 0.2\n",
        "\n",
        "    plt.figure(figsize=(12, 6))\n",
        "    for i, (model_name, f1_scores) in enumerate(scores.items()):\n",
        "        plt.bar(x + i * width, f1_scores, width, label=model_name)\n",
        "\n",
        "    plt.xticks(x + (len(model_names) - 1) * width / 2, labels)\n",
        "    plt.ylabel(\"F1-Score\")\n",
        "    plt.title(\"Model F1-Score Comparison\")\n",
        "    plt.legend()\n",
        "    plt.show()\n",
        "\n",
        "plot_classification_report(\n",
        "    [knn, knn_grid.best_estimator_, rf, grid_search.best_estimator_],\n",
        "    model_names,\n",
        "    X_test,\n",
        "    y_test,\n",
        "    labels=['Low', 'Medium', 'High']\n",
        ")"
      ],
      "metadata": {
        "colab": {
          "base_uri": "https://localhost:8080/",
          "height": 1000
        },
        "id": "TWWL-ySvm2dQ",
        "outputId": "bc561811-6f60-40dc-a7cd-1b28a927cb09"
      },
      "execution_count": null,
      "outputs": [
        {
          "output_type": "display_data",
          "data": {
            "text/plain": [
              "<Figure size 1000x600 with 1 Axes>"
            ],
            "image/png": "[encoded data removed]"
          },
          "metadata": {}
        },
        {
          "output_type": "display_data",
          "data": {
            "text/plain": [
              "<Figure size 1200x1200 with 4 Axes>"
            ],
            "image/png": "[encoded data removed]"
          },
          "metadata": {}
        },
        {
          "output_type": "display_data",
          "data": {
            "text/plain": [
              "<Figure size 1200x600 with 1 Axes>"
            ],
            "image/png": "[encoded data removed]"
          },
          "metadata": {}
        }
      ]
    },
    {
      "cell_type": "markdown",
      "source": [
        "KNN-Classification problem based."
      ],
      "metadata": {
        "id": "4_VIsE0U1yQG"
      }
    },
    {
      "cell_type": "code",
      "source": [
        "from sklearn.neighbors import KNeighborsClassifier\n",
        "from sklearn.model_selection import train_test_split\n",
        "from sklearn.metrics import accuracy_score\n",
        "from sklearn.preprocessing import LabelEncoder\n",
        "import pandas as pd\n",
        "import gspread\n",
        "from google.auth import default\n",
        "from google.colab import auth\n",
        "\n",
        "# Authenticate with Google Colab\n",
        "auth.authenticate_user()\n",
        "creds, _ = default()\n",
        "\n",
        "# Access the Google Sheet\n",
        "gc = gspread.authorize(creds)\n",
        "spreadsheet_url = \"https://docs.google.com/spreadsheets/d/1Vy1vuswANehTAZ1RLfzMn7Vae9gLtvltfDP4X6mibHg/edit?gid=1433666743\"  # Replace with your spreadsheet URL\n",
        "spreadsheet = gc.open_by_url(spreadsheet_url)\n",
        "sheet = spreadsheet.sheet1\n",
        "\n",
        "data = pd.DataFrame(sheet.get_all_records())\n",
        "\n",
        "#since pid and Levl are in object format(categorical data) we need to encode it to numeric.\n",
        "label_encoder = LabelEncoder()\n",
        "data['Patient Id'] = label_encoder.fit_transform(data['Patient Id'])\n",
        "data['Level'] = label_encoder.fit_transform(data['Level'])\n",
        "\n",
        "x = data.drop(columns=['Level'])\n",
        "y = data['Level']   #target\n",
        "\n",
        "x_train, x_test, y_train, y_test = train_test_split(x,y, test_size = 0.2, random_state = 42)\n",
        "\n",
        "knn = KNeighborsClassifier(n_neighbors = 4)  #found k = 4 has best accuracy(from 1-20)\n",
        "knn.fit(x_train, y_train)\n",
        "\n",
        "y_pred = knn.predict(x_test)\n",
        "print(y_pred)\n",
        "\n",
        "accuracy = accuracy_score(y_test, y_pred)\n",
        "print(\"Accuracy:\", accuracy)"
      ],
      "metadata": {
        "colab": {
          "base_uri": "https://localhost:8080/"
        },
        "id": "n53IR2Hi1r-V",
        "outputId": "2af0d91a-e71e-4aed-a4d5-3e7b67159b6d"
      },
      "execution_count": null,
      "outputs": [
        {
          "output_type": "stream",
          "name": "stdout",
          "text": [
            "[2 1 2 0 2 0 1 2 2 0 1 2 2 2 1 0 1 0 0 0 0 2 1 2 0 0 0 0 1 1 1 0 2 1 1 0 0\n",
            " 1 0 1 0 0 2 2 2 1 1 1 0 1 0 0 1 0 0 0 1 0 0 1 2 1 0 0 1 2 0 0 2 0 0 1 1 2\n",
            " 2 2 0 1 1 2 2 1 1 2 0 0 0 1 0 0 1 1 2 0 0 0 0 0 1 1 1 0 1 1 2 0 0 1 1 1 2\n",
            " 0 0 0 0 0 2 0 0 2 0 0 1 1 0 0 0 0 0 0 1 2 1 0 2 1 1 0 0 2 1 0 1 1 0 0 1 0\n",
            " 1 0 0 1 1 0 1 0 0 0 1 0 1 0 0 0 0 0 2 0 0 0 0 1 0 0 1 2 0 1 0 0 1 0 1 2 2\n",
            " 0 0 1 1 2 1 1 0 0 0 2 0 0 1 2]\n",
            "Accuracy: 0.835\n"
          ]
        }
      ]
    },
    {
      "cell_type": "markdown",
      "source": [
        "\n",
        "The accuracy is 83.5% with (k = 4), but we can scale it and try to increase the accuracy of our model."
      ],
      "metadata": {
        "id": "OzREXVlL3AqG"
      }
    },
    {
      "cell_type": "code",
      "source": [
        "#KNN is sensitive to the scale of features. If Patient Id or other features have large ranges, normalization can improve performance.\n",
        "from sklearn.preprocessing import MinMaxScaler    #after scaling, the accuracy seems to be 100%\n",
        "\n",
        "label_encoder = LabelEncoder()\n",
        "data['Patient Id'] = label_encoder.fit_transform(data['Patient Id'])\n",
        "data['Level'] = label_encoder.fit_transform(data['Level'])\n",
        "\n",
        "x = data.drop(columns=['Level'])\n",
        "y = data['Level']   #target\n",
        "\n",
        "\n",
        "scaler = MinMaxScaler()\n",
        "x_scaled = scaler.fit_transform(x)\n",
        "\n",
        "x_train, x_test, y_train, y_test = train_test_split(x_scaled, y, test_size=0.2, random_state=42)\n",
        "\n",
        "knn = KNeighborsClassifier(n_neighbors=4)\n",
        "knn.fit(x_train, y_train)\n",
        "y_pred = knn.predict(x_test)\n",
        "\n",
        "accuracy = accuracy_score(y_test, y_pred)\n",
        "print(\"Scaled Accuracy:\", accuracy)\n"
      ],
      "metadata": {
        "colab": {
          "base_uri": "https://localhost:8080/"
        },
        "id": "9FipDLiN75r_",
        "outputId": "7aa9ff77-da6b-4fd9-9aba-e66aa32c7ce9"
      },
      "execution_count": null,
      "outputs": [
        {
          "output_type": "stream",
          "name": "stdout",
          "text": [
            "Scaled Accuracy: 1.0\n"
          ]
        }
      ]
    },
    {
      "cell_type": "markdown",
      "source": [
        "Here we have got 100% accuracy, but sometimes 100% accuracy can be due to overfitting, so lets perform cross validation."
      ],
      "metadata": {
        "id": "qm4QuJT23aZd"
      }
    },
    {
      "cell_type": "code",
      "source": [
        "from sklearn.model_selection import cross_val_score\n",
        "\n",
        "knn = KNeighborsClassifier(n_neighbors=4)\n",
        "cv_scores = cross_val_score(knn, x_scaled, y, cv=5)  # 5-fold cross-validation\n",
        "\n",
        "print(\"Cross-Validation Scores:\", cv_scores)\n",
        "print(\"Mean Accuracy:\", cv_scores.mean())"
      ],
      "metadata": {
        "colab": {
          "base_uri": "https://localhost:8080/"
        },
        "id": "oR6wzm4V3bsM",
        "outputId": "f21366b8-72de-4478-d7fd-b62a52cf71e7"
      },
      "execution_count": null,
      "outputs": [
        {
          "output_type": "stream",
          "name": "stdout",
          "text": [
            "Cross-Validation Scores: [1. 1. 1. 1. 1.]\n",
            "Mean Accuracy: 1.0\n"
          ]
        }
      ]
    },
    {
      "cell_type": "markdown",
      "source": [
        "After cross validation, still our model perform best, so its safe to conclude our model is 100% accurate.\n"
      ],
      "metadata": {
        "id": "oWgp9f0e3hWF"
      }
    },
    {
      "cell_type": "markdown",
      "source": [
        "Regression problem based."
      ],
      "metadata": {
        "id": "veFcH_aY3se_"
      }
    },
    {
      "cell_type": "code",
      "source": [
        "from sklearn.model_selection import train_test_split\n",
        "from sklearn.preprocessing import MinMaxScaler\n",
        "from sklearn.neighbors import KNeighborsRegressor\n",
        "from sklearn.metrics import mean_squared_error, mean_absolute_error, r2_score\n",
        "\n",
        "scaler = MinMaxScaler()\n",
        "x_scaled = scaler.fit_transform(x)\n",
        "\n",
        "x_train, x_test, y_train, y_test = train_test_split(x_scaled, y, test_size=0.2, random_state=42)\n",
        "\n",
        "knn = KNeighborsRegressor(n_neighbors = 4)\n",
        "knn.fit(x_train, y_train)\n",
        "\n",
        "y_pred = knn.predict(x_test)\n",
        "\n",
        "mse = mean_squared_error(y_test, y_pred)\n",
        "mae = mean_absolute_error(y_test, y_pred)\n",
        "r2 = r2_score(y_test, y_pred)\n",
        "\n",
        "print(\"Mean Squared Error:\", mse)\n",
        "print(\"Mean Absolute Error:\", mae)\n",
        "print(\"R-squared:\", r2)\n"
      ],
      "metadata": {
        "colab": {
          "base_uri": "https://localhost:8080/"
        },
        "id": "Y-Awky_23igU",
        "outputId": "3593fea3-79b4-408a-8e8f-941e3eecf536"
      },
      "execution_count": null,
      "outputs": [
        {
          "output_type": "stream",
          "name": "stdout",
          "text": [
            "Mean Squared Error: 0.0003125\n",
            "Mean Absolute Error: 0.00125\n",
            "R-squared: 0.9995635322462376\n"
          ]
        }
      ]
    },
    {
      "cell_type": "code",
      "source": [
        "from sklearn.model_selection import cross_val_score\n",
        "knn = KNeighborsRegressor(n_neighbors=4)\n",
        "cv_scores = cross_val_score(knn, x_scaled, y , cv=5)\n",
        "print(cv_scores)"
      ],
      "metadata": {
        "colab": {
          "base_uri": "https://localhost:8080/"
        },
        "id": "quFHWGBW33zk",
        "outputId": "4d2d529c-d251-482b-9a6f-6a49f2c54d90"
      },
      "execution_count": null,
      "outputs": [
        {
          "output_type": "stream",
          "name": "stdout",
          "text": [
            "[0.99953875 1.         1.         1.         1.        ]\n"
          ]
        }
      ]
    },
    {
      "cell_type": "markdown",
      "source": [
        "So regressor model also shows high performance."
      ],
      "metadata": {
        "id": "vb3vHTvw36pY"
      }
    },
    {
      "cell_type": "markdown",
      "source": [
        "ENSEMBLE METHODS: RANDOM FOREST ALG"
      ],
      "metadata": {
        "id": "j-1KPh7N5nZ1"
      }
    },
    {
      "cell_type": "code",
      "source": [
        "from sklearn.model_selection import train_test_split\n",
        "from sklearn.preprocessing import MinMaxScaler\n",
        "from sklearn.ensemble import RandomForestClassifier\n",
        "from sklearn.metrics import accuracy_score, classification_report\n",
        "import warnings\n",
        "warnings.filterwarnings('ignore')\n",
        "\n",
        "label_encoder = LabelEncoder()\n",
        "data['Patient Id'] = label_encoder.fit_transform(data['Patient Id'])\n",
        "data['Level'] = label_encoder.fit_transform(data['Level'])\n",
        "\n",
        "x = data.drop(columns=['Level'])\n",
        "y = data['Level']   #target\n",
        "\n",
        "scaler = MinMaxScaler()\n",
        "x_scaled = scaler.fit_transform(x)\n",
        "\n",
        "x_train, x_test, y_train, y_test = train_test_split(x, y, test_size=0.2, random_state=42)\n",
        "\n",
        "rf_classifier =  RandomForestClassifier(n_estimators = 100, random_state=42)\n",
        "rf_classifier.fit(x_train, y_train)\n",
        "\n",
        "y_pred = rf_classifier.predict(x_test)\n",
        "\n",
        "accuracy = accuracy_score(y_test,y_pred)\n",
        "classification_rep = classification_report(y_test, y_pred)\n",
        "\n",
        "print(accuracy)\n",
        "print(classification_rep)"
      ],
      "metadata": {
        "colab": {
          "base_uri": "https://localhost:8080/"
        },
        "id": "se4Tn9Ql5Oep",
        "outputId": "10f98bed-baf4-4fe5-a3f4-d6deb6ddc6ed"
      },
      "execution_count": null,
      "outputs": [
        {
          "output_type": "stream",
          "name": "stdout",
          "text": [
            "1.0\n",
            "              precision    recall  f1-score   support\n",
            "\n",
            "           0       1.00      1.00      1.00        82\n",
            "           1       1.00      1.00      1.00        55\n",
            "           2       1.00      1.00      1.00        63\n",
            "\n",
            "    accuracy                           1.00       200\n",
            "   macro avg       1.00      1.00      1.00       200\n",
            "weighted avg       1.00      1.00      1.00       200\n",
            "\n"
          ]
        }
      ]
    },
    {
      "cell_type": "code",
      "source": [
        "from sklearn.ensemble import RandomForestRegressor\n",
        "\n",
        "X_train, X_test, y_train, y_test = train_test_split(x, y, test_size=0.2, random_state=42)\n",
        "\n",
        "rf_regressor =  RandomForestRegressor(n_estimators = 100, random_state=42)\n",
        "rf_regressor.fit(x_train, y_train)\n",
        "\n",
        "y_pred = rf_regressor.predict(x_test)\n",
        "\n",
        "\n",
        "mse = mean_squared_error(y_test, y_pred)\n",
        "mae = mean_absolute_error(y_test, y_pred)\n",
        "r2 = r2_score(y_test, y_pred)\n",
        "\n",
        "print(\"Mean Squared Error:\", mse)\n",
        "print(\"Mean Absolute Error:\", mae)\n",
        "print(\"R-squared:\", r2)"
      ],
      "metadata": {
        "colab": {
          "base_uri": "https://localhost:8080/"
        },
        "id": "kVHWCkak5V6g",
        "outputId": "7f46b841-8fc8-4daa-bebf-98eae235ba63"
      },
      "execution_count": null,
      "outputs": [
        {
          "output_type": "stream",
          "name": "stdout",
          "text": [
            "Mean Squared Error: 8.000000000000015e-06\n",
            "Mean Absolute Error: 0.00020000000000000017\n",
            "R-squared: 0.9999888264255037\n"
          ]
        }
      ]
    },
    {
      "cell_type": "markdown",
      "source": [
        "Both Classifier and regressor models show very high accuracy."
      ],
      "metadata": {
        "id": "bu19F7-Z5xsG"
      }
    },
    {
      "cell_type": "markdown",
      "source": [
        "**Implementation of KNN algorithm**"
      ],
      "metadata": {
        "id": "FBhjkomD8eNT"
      }
    },
    {
      "cell_type": "code",
      "source": [
        "from google.colab import auth\n",
        "auth.authenticate_user()\n",
        "\n",
        "import gspread\n",
        "from google.auth import default\n",
        "creds, _ = default()\n",
        "\n",
        "gc = gspread.authorize(creds)\n",
        "worksheet = gc.open('cancer patient data sets').worksheet('Sheet')\n",
        "data = worksheet.get_all_values()\n"
      ],
      "metadata": {
        "id": "K_-OZeyN7ovX"
      },
      "execution_count": null,
      "outputs": []
    },
    {
      "cell_type": "code",
      "source": [
        "import pandas as pd\n",
        "import numpy as np\n",
        "from sklearn.model_selection import train_test_split\n",
        "from sklearn.preprocessing import LabelEncoder, StandardScaler\n",
        "from sklearn.neighbors import KNeighborsClassifier\n",
        "from sklearn.ensemble import RandomForestClassifier\n",
        "from sklearn.metrics import accuracy_score, classification_report, confusion_matrix\n"
      ],
      "metadata": {
        "id": "jH4QRqS77ty6"
      },
      "execution_count": null,
      "outputs": []
    },
    {
      "cell_type": "code",
      "source": [
        "\n",
        "df = pd.DataFrame(data[1:], columns=data[0])\n",
        "# Drop unnecessary columns and clean data\n",
        "df.drop('Patient Id', axis=1, inplace=True)  # Drop Patient Id as it's not useful\n",
        "df = df.replace('', np.nan).dropna()  # Handle missing values\n",
        "\n",
        "# Encode categorical features\n",
        "from sklearn.preprocessing import LabelEncoder\n",
        "label_encoders = {}\n",
        "for column in df.select_dtypes(include=['object']).columns:\n",
        "    le = LabelEncoder()\n",
        "    df[column] = le.fit_transform(df[column])\n",
        "    label_encoders[column] = le\n",
        "\n",
        "# Separate features and target variable\n",
        "X = df.drop('Level', axis=1)\n",
        "y = df['Level']\n",
        "\n",
        "# Split dataset into training and testing sets\n",
        "X_train, X_test, y_train, y_test = train_test_split(X, y, test_size=0.2, random_state=42)\n",
        "\n",
        "# Basic KNN model\n",
        "knn = KNeighborsClassifier(n_neighbors=5)  # Default k=5\n",
        "knn.fit(X_train, y_train)\n",
        "\n",
        "# Make predictions\n",
        "y_pred = knn.predict(X_test)\n",
        "\n",
        "# Evaluate the model\n",
        "accuracy = accuracy_score(y_test, y_pred)\n",
        "print(f\"Accuracy: {accuracy:.2f}\")\n",
        "print(\"\\nClassification Report:\\n\", classification_report(y_test, y_pred))\n",
        "print(\"\\nConfusion Matrix:\\n\", confusion_matrix(y_test, y_pred))"
      ],
      "metadata": {
        "colab": {
          "base_uri": "https://localhost:8080/"
        },
        "id": "utUuB8J_8__Q",
        "outputId": "250afab0-6f2a-4d9f-df1b-a71c6ec6c52d"
      },
      "execution_count": null,
      "outputs": [
        {
          "output_type": "stream",
          "name": "stdout",
          "text": [
            "Accuracy: 0.99\n",
            "\n",
            "Classification Report:\n",
            "               precision    recall  f1-score   support\n",
            "\n",
            "           0       1.00      1.00      1.00        82\n",
            "           1       1.00      0.98      0.99        55\n",
            "           2       0.98      1.00      0.99        63\n",
            "\n",
            "    accuracy                           0.99       200\n",
            "   macro avg       0.99      0.99      0.99       200\n",
            "weighted avg       1.00      0.99      0.99       200\n",
            "\n",
            "\n",
            "Confusion Matrix:\n",
            " [[82  0  0]\n",
            " [ 0 54  1]\n",
            " [ 0  0 63]]\n"
          ]
        }
      ]
    },
    {
      "cell_type": "markdown",
      "source": [
        "**1.Feature Scaling:** Scaling ensures all features contribute equally to the distance metric."
      ],
      "metadata": {
        "id": "qxmcRpNkWl0m"
      }
    },
    {
      "cell_type": "code",
      "source": [
        "from sklearn.preprocessing import StandardScaler\n",
        "\n",
        "# Scale features\n",
        "scaler = StandardScaler()\n",
        "X_scaled = scaler.fit_transform(X)\n",
        "\n",
        "# Split dataset\n",
        "X_train, X_test, y_train, y_test = train_test_split(X_scaled, y, test_size=0.2, random_state=42)\n",
        "\n",
        "# Re-train KNN with scaled data\n",
        "knn.fit(X_train, y_train)\n",
        "y_pred = knn.predict(X_test)\n",
        "\n",
        "# Evaluate\n",
        "accuracy = accuracy_score(y_test, y_pred)\n",
        "print(f\"Accuracy after scaling: {accuracy:.2f}\")\n"
      ],
      "metadata": {
        "colab": {
          "base_uri": "https://localhost:8080/"
        },
        "id": "DQm-w8XrWpIR",
        "outputId": "a2e60fd4-2347-476d-e2e6-6fb28fb05115"
      },
      "execution_count": null,
      "outputs": [
        {
          "output_type": "stream",
          "name": "stdout",
          "text": [
            "Accuracy after scaling: 1.00\n"
          ]
        }
      ]
    },
    {
      "cell_type": "markdown",
      "source": [
        "**2. Hyperparameter Tuning:**\n",
        "Using GridSearchCV to find the optimal number of neighbors."
      ],
      "metadata": {
        "id": "VnMFY_JzWsn9"
      }
    },
    {
      "cell_type": "code",
      "source": [
        "from sklearn.model_selection import GridSearchCV\n",
        "\n",
        "# Grid search for best k\n",
        "param_grid = {'n_neighbors': np.arange(1, 31)}\n",
        "grid_search = GridSearchCV(KNeighborsClassifier(), param_grid, cv=5, scoring='accuracy')\n",
        "grid_search.fit(X_train, y_train)\n",
        "\n",
        "# Best k\n",
        "best_k = grid_search.best_params_['n_neighbors']\n",
        "print(f\"Optimal k: {best_k}\")\n",
        "\n",
        "# Train model with optimal k\n",
        "knn = KNeighborsClassifier(n_neighbors=best_k)\n",
        "knn.fit(X_train, y_train)\n",
        "y_pred = knn.predict(X_test)\n",
        "\n",
        "# Evaluate\n",
        "accuracy = accuracy_score(y_test, y_pred)\n",
        "print(f\"Accuracy with optimal k: {accuracy:.2f}\")\n"
      ],
      "metadata": {
        "colab": {
          "base_uri": "https://localhost:8080/"
        },
        "id": "GMlSWaYA99Jm",
        "outputId": "ad858fbf-884f-4c43-b512-b253c8d494c3"
      },
      "execution_count": null,
      "outputs": [
        {
          "output_type": "stream",
          "name": "stdout",
          "text": [
            "Optimal k: 1\n",
            "Accuracy with optimal k: 1.00\n"
          ]
        }
      ]
    },
    {
      "cell_type": "markdown",
      "source": [
        "If k = 1 is optimal, this suggests that the model is likely overfitting, especially if the dataset is small or simple.\n",
        "**To avoid this issue:**\n",
        "Increase the value of k: Usually, increasing k helps the model make more general decisions by considering multiple neighbors rather than just the closest one. This can reduce overfitting."
      ],
      "metadata": {
        "id": "YRM1pJw3TIGs"
      }
    },
    {
      "cell_type": "code",
      "source": [
        "# Test different values of k\n",
        "k_values = [3, 5, 7, 9, 11, 15, 20]  # Add more values as needed\n",
        "\n",
        "# Initialize lists to store accuracy for each k\n",
        "train_accuracies = []\n",
        "test_accuracies = []\n",
        "\n",
        "# Loop through each k value\n",
        "for k in k_values:\n",
        "    knn = KNeighborsClassifier(n_neighbors=k)\n",
        "    knn.fit(X_train, y_train)\n",
        "\n",
        "    # Evaluate on training set\n",
        "    train_pred = knn.predict(X_train)\n",
        "    train_accuracy = accuracy_score(y_train, train_pred)\n",
        "\n",
        "    # Evaluate on test set\n",
        "    test_pred = knn.predict(X_test)\n",
        "    test_accuracy = accuracy_score(y_test, test_pred)\n",
        "\n",
        "    # Store accuracies\n",
        "    train_accuracies.append(train_accuracy)\n",
        "    test_accuracies.append(test_accuracy)\n",
        "\n",
        "    print(f\"Accuracy for k={k} - Train: {train_accuracy}, Test: {test_accuracy}\")\n",
        "\n",
        "# Plot train vs test accuracy for each k\n",
        "plt.figure(figsize=(10, 6))\n",
        "plt.plot(k_values, train_accuracies, label='Train Accuracy', marker='o')\n",
        "plt.plot(k_values, test_accuracies, label='Test Accuracy', marker='o')\n",
        "plt.title(\"Train vs Test Accuracy for Different k Values\")\n",
        "plt.xlabel(\"Number of Neighbors (k)\")\n",
        "plt.ylabel(\"Accuracy\")\n",
        "plt.legend()\n",
        "plt.grid()\n",
        "plt.show()\n"
      ],
      "metadata": {
        "colab": {
          "base_uri": "https://localhost:8080/",
          "height": 685
        },
        "id": "l0OlB-zj_4xf",
        "outputId": "9970739d-aee2-4bbd-f4d5-20085ef96010"
      },
      "execution_count": null,
      "outputs": [
        {
          "output_type": "stream",
          "name": "stdout",
          "text": [
            "Accuracy for k=3 - Train: 1.0, Test: 1.0\n",
            "Accuracy for k=5 - Train: 1.0, Test: 1.0\n",
            "Accuracy for k=7 - Train: 1.0, Test: 1.0\n",
            "Accuracy for k=9 - Train: 1.0, Test: 1.0\n",
            "Accuracy for k=11 - Train: 1.0, Test: 1.0\n",
            "Accuracy for k=15 - Train: 0.98375, Test: 0.965\n",
            "Accuracy for k=20 - Train: 0.9575, Test: 0.955\n"
          ]
        },
        {
          "output_type": "display_data",
          "data": {
            "text/plain": [
              "<Figure size 1000x600 with 1 Axes>"
            ],
            "image/png": "[encoded data removed]"
          },
          "metadata": {}
        }
      ]
    },
    {
      "cell_type": "markdown",
      "source": [
        "**Summary:**\n",
        "\n",
        "- **Optimal k = 1** (in a previous result) suggests the model was memorizing the data with perfect accuracy, which is overfitting and not ideal.\n",
        "- For larger **k values** (15 and 20), the model improves in generalization by reducing overfitting, as the training accuracy decreases slightly but the test accuracy remains relatively high.\n",
        "- **k = 15** and **k = 20** strike a good balance, where the model generalizes well to unseen data (test set) without overfitting to the training set.\n",
        "- In conclusion, while **k = 1** may have been optimal in a limited or simple context, larger **k values** are better for preventing overfitting and improving the model’s generalization."
      ],
      "metadata": {
        "id": "Bdeux_GZT7Th"
      }
    },
    {
      "cell_type": "markdown",
      "source": [
        "The accuracy on the test set stabilizes and stays high as k increases, indicating that larger k values help improve the model's ability to generalize to unseen data.\n",
        "k = 15 and k = 20 provide a balance between training and test accuracy, avoiding overfitting and ensuring better generalization compared to k = 1."
      ],
      "metadata": {
        "id": "k63-n65ZVdI9"
      }
    },
    {
      "cell_type": "markdown",
      "source": [
        "**Implementation of random forest**"
      ],
      "metadata": {
        "id": "WYuxZ_VMVjZz"
      }
    },
    {
      "cell_type": "markdown",
      "source": [
        "**Basic Random Forest Implementation**\n"
      ],
      "metadata": {
        "id": "zJ_UXW80XLkA"
      }
    },
    {
      "cell_type": "code",
      "source": [
        "# Import necessary libraries\n",
        "from sklearn.ensemble import RandomForestClassifier\n",
        "from sklearn.metrics import accuracy_score, classification_report, confusion_matrix\n",
        "\n",
        "# Train a basic Random Forest model\n",
        "rf = RandomForestClassifier(random_state=42)\n",
        "rf.fit(X_train, y_train)\n",
        "\n",
        "# Make predictions\n",
        "y_pred = rf.predict(X_test)\n",
        "\n",
        "# Evaluate the model\n",
        "accuracy = accuracy_score(y_test, y_pred)\n",
        "print(f\"Basic Random Forest Accuracy: {accuracy:.2f}\")\n",
        "print(\"\\nClassification Report:\\n\", classification_report(y_test, y_pred))\n",
        "print(\"\\nConfusion Matrix:\\n\", confusion_matrix(y_test, y_pred))\n"
      ],
      "metadata": {
        "colab": {
          "base_uri": "https://localhost:8080/"
        },
        "id": "ykcEtZunUMnf",
        "outputId": "97e42acb-0976-48ce-f546-6f752bec0d5c"
      },
      "execution_count": null,
      "outputs": [
        {
          "output_type": "stream",
          "name": "stdout",
          "text": [
            "Basic Random Forest Accuracy: 1.00\n",
            "\n",
            "Classification Report:\n",
            "               precision    recall  f1-score   support\n",
            "\n",
            "           0       1.00      1.00      1.00        82\n",
            "           1       1.00      1.00      1.00        55\n",
            "           2       1.00      1.00      1.00        63\n",
            "\n",
            "    accuracy                           1.00       200\n",
            "   macro avg       1.00      1.00      1.00       200\n",
            "weighted avg       1.00      1.00      1.00       200\n",
            "\n",
            "\n",
            "Confusion Matrix:\n",
            " [[82  0  0]\n",
            " [ 0 55  0]\n",
            " [ 0  0 63]]\n"
          ]
        }
      ]
    },
    {
      "cell_type": "markdown",
      "source": [
        "**1. Hyperparameter Tuning**"
      ],
      "metadata": {
        "id": "3mYWKXDFZCIp"
      }
    },
    {
      "cell_type": "code",
      "source": [
        "from sklearn.model_selection import GridSearchCV\n",
        "from sklearn.ensemble import RandomForestClassifier\n",
        "from sklearn.metrics import accuracy_score, classification_report, confusion_matrix\n",
        "\n",
        "# Define an even smaller parameter grid\n",
        "param_grid = {\n",
        "    'n_estimators': [100],  # Only use 100 trees for now\n",
        "    'max_depth': [10],       # Limit depth to 10\n",
        "    'bootstrap': [True]      # Use bootstrap sampling\n",
        "}\n",
        "\n",
        "# Initialize the Random Forest model\n",
        "rf = RandomForestClassifier(random_state=42)\n",
        "\n",
        "# Perform GridSearchCV with 3-fold cross-validation to make it faster\n",
        "grid_search = GridSearchCV(estimator=rf, param_grid=param_grid, cv=3, scoring='accuracy', verbose=2)\n",
        "grid_search.fit(X_train, y_train)\n",
        "\n",
        "# Display the best hyperparameters\n",
        "print(f\"Best Parameters: {grid_search.best_params_}\")\n",
        "\n",
        "# Train the Random Forest with the best parameters found\n",
        "best_rf = grid_search.best_estimator_\n",
        "\n",
        "# Make predictions\n",
        "y_pred = best_rf.predict(X_test)\n",
        "\n",
        "# Evaluate the model\n",
        "accuracy = accuracy_score(y_test, y_pred)\n",
        "print(f\"Accuracy with tuned Random Forest: {accuracy:.2f}\")\n",
        "print(\"\\nClassification Report:\\n\", classification_report(y_test, y_pred))\n",
        "print(\"\\nConfusion Matrix:\\n\", confusion_matrix(y_test, y_pred))\n"
      ],
      "metadata": {
        "colab": {
          "base_uri": "https://localhost:8080/"
        },
        "id": "nu0b-BdXYJ2C",
        "outputId": "2b14b33e-99e3-4f76-fd61-6430fe5c5113"
      },
      "execution_count": null,
      "outputs": [
        {
          "output_type": "stream",
          "name": "stdout",
          "text": [
            "Fitting 3 folds for each of 1 candidates, totalling 3 fits\n",
            "[CV] END .....bootstrap=True, max_depth=10, n_estimators=100; total time=   0.4s\n",
            "[CV] END .....bootstrap=True, max_depth=10, n_estimators=100; total time=   0.7s\n",
            "[CV] END .....bootstrap=True, max_depth=10, n_estimators=100; total time=   0.7s\n",
            "Best Parameters: {'bootstrap': True, 'max_depth': 10, 'n_estimators': 100}\n",
            "Accuracy with tuned Random Forest: 1.00\n",
            "\n",
            "Classification Report:\n",
            "               precision    recall  f1-score   support\n",
            "\n",
            "           0       1.00      1.00      1.00        82\n",
            "           1       1.00      1.00      1.00        55\n",
            "           2       1.00      1.00      1.00        63\n",
            "\n",
            "    accuracy                           1.00       200\n",
            "   macro avg       1.00      1.00      1.00       200\n",
            "weighted avg       1.00      1.00      1.00       200\n",
            "\n",
            "\n",
            "Confusion Matrix:\n",
            " [[82  0  0]\n",
            " [ 0 55  0]\n",
            " [ 0  0 63]]\n"
          ]
        }
      ]
    },
    {
      "cell_type": "markdown",
      "source": [
        "**Ensemble with Voting Classifier:**\n",
        "Combine Random Forest with other classifiers for better performance."
      ],
      "metadata": {
        "id": "zKKFb0E4ZMeb"
      }
    },
    {
      "cell_type": "code",
      "source": [
        "from sklearn.ensemble import VotingClassifier\n",
        "from sklearn.linear_model import LogisticRegression\n",
        "from sklearn.svm import SVC\n",
        "\n",
        "# Ensemble model with Voting Classifier\n",
        "voting_clf = VotingClassifier(estimators=[\n",
        "    ('rf', rf),\n",
        "    ('logreg', LogisticRegression(max_iter=1000, random_state=42)),\n",
        "    ('svc', SVC(probability=True, random_state=42))\n",
        "], voting='soft')\n",
        "\n",
        "voting_clf.fit(X_train, y_train)\n",
        "y_pred = voting_clf.predict(X_test)\n",
        "\n",
        "# Evaluate\n",
        "accuracy = accuracy_score(y_test, y_pred)\n",
        "print(f\"Accuracy with Voting Classifier: {accuracy:.2f}\")\n"
      ],
      "metadata": {
        "colab": {
          "base_uri": "https://localhost:8080/"
        },
        "id": "sr8NhRhFZL55",
        "outputId": "a5ece9c2-72b0-4b5d-c491-8c6aa08ecf58"
      },
      "execution_count": null,
      "outputs": [
        {
          "output_type": "stream",
          "name": "stdout",
          "text": [
            "Accuracy with Voting Classifier: 1.00\n"
          ]
        }
      ]
    },
    {
      "cell_type": "markdown",
      "source": [
        "**Ensemble KNN and Random Forest with Perfect Accuracy:**\n",
        "Even if KNN and Random Forest individually achieve perfect accuracy, combining them through ensembling is still valuable for:\n",
        "\n",
        "\n",
        "\n",
        "\n",
        "\n",
        "  \n",
        "* **Improved Robustness:**Ensures the model generalizes well to unseen data.\n",
        "* **Handling Ambiguity:** If future datasets are less clean, the ensemble can stabilize predictions.\n",
        "\n",
        "\n",
        "\n",
        "\n"
      ],
      "metadata": {
        "id": "bQUhVb5BaMTr"
      }
    },
    {
      "cell_type": "code",
      "source": [
        "from sklearn.ensemble import VotingClassifier\n",
        "from sklearn.neighbors import KNeighborsClassifier\n",
        "from sklearn.ensemble import RandomForestClassifier\n",
        "from sklearn.metrics import accuracy_score, classification_report, confusion_matrix\n",
        "\n",
        "# Initialize KNN and Random Forest (already optimized)\n",
        "knn = KNeighborsClassifier(n_neighbors=5)\n",
        "rf = RandomForestClassifier(n_estimators=100, random_state=42)\n",
        "\n",
        "# Ensemble using Voting Classifier\n",
        "voting_clf = VotingClassifier(estimators=[\n",
        "    ('knn', knn),\n",
        "    ('rf', rf)\n",
        "], voting='soft')  # Soft voting combines probabilities\n",
        "\n",
        "# Train ensemble model\n",
        "voting_clf.fit(X_train, y_train)\n",
        "\n",
        "# Predictions and evaluation\n",
        "y_pred = voting_clf.predict(X_test)\n",
        "\n",
        "# Evaluate ensemble model\n",
        "accuracy = accuracy_score(y_test, y_pred)\n",
        "print(f\"Ensemble Model Accuracy: {accuracy:.2f}\")\n",
        "print(\"\\nClassification Report:\\n\", classification_report(y_test, y_pred))\n",
        "print(\"\\nConfusion Matrix:\\n\", confusion_matrix(y_test, y_pred))"
      ],
      "metadata": {
        "colab": {
          "base_uri": "https://localhost:8080/"
        },
        "id": "2npl3MUSaVu1",
        "outputId": "2fbdd368-caaf-4468-c65e-85dd3c91792d"
      },
      "execution_count": null,
      "outputs": [
        {
          "output_type": "stream",
          "name": "stdout",
          "text": [
            "Ensemble Model Accuracy: 1.00\n",
            "\n",
            "Classification Report:\n",
            "               precision    recall  f1-score   support\n",
            "\n",
            "           0       1.00      1.00      1.00        82\n",
            "           1       1.00      1.00      1.00        55\n",
            "           2       1.00      1.00      1.00        63\n",
            "\n",
            "    accuracy                           1.00       200\n",
            "   macro avg       1.00      1.00      1.00       200\n",
            "weighted avg       1.00      1.00      1.00       200\n",
            "\n",
            "\n",
            "Confusion Matrix:\n",
            " [[82  0  0]\n",
            " [ 0 55  0]\n",
            " [ 0  0 63]]\n"
          ]
        }
      ]
    },
    {
      "cell_type": "markdown",
      "source": [
        "Both K-Nearest Neighbors (KNN) and Random Forest models performed well, achieving high accuracy on the provided dataset. The ensemble model, combining both algorithms using soft voting, achieved the best accuracy due to their complementary strengths. While the simplicity of the dataset contributed to near-perfect results, these findings may be specific to this data, and further testing on more complex datasets is needed to assess generalizability."
      ],
      "metadata": {
        "id": "RdHCmAowdLzv"
      }
    }
  ]
}