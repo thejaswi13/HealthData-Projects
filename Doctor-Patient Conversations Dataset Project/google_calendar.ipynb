{
  "nbformat": 4,
  "nbformat_minor": 0,
  "metadata": {
    "colab": {
      "provenance": []
    },
    "kernelspec": {
      "name": "python3",
      "display_name": "Python 3"
    },
    "language_info": {
      "name": "python"
    }
  },
  "cells": [
    {
      "cell_type": "code",
      "execution_count": null,
      "metadata": {
        "colab": {
          "base_uri": "https://localhost:8080/"
        },
        "id": "7tDv1tl30L1I",
        "outputId": "299f6f4a-955f-49b9-90fc-4db9f9b8db98"
      },
      "outputs": [
        {
          "output_type": "stream",
          "name": "stdout",
          "text": [
            "Requirement already satisfied: requests in /usr/local/lib/python3.11/dist-packages (2.32.3)\n",
            "Requirement already satisfied: charset-normalizer<4,>=2 in /usr/local/lib/python3.11/dist-packages (from requests) (3.4.1)\n",
            "Requirement already satisfied: idna<4,>=2.5 in /usr/local/lib/python3.11/dist-packages (from requests) (3.10)\n",
            "Requirement already satisfied: urllib3<3,>=1.21.1 in /usr/local/lib/python3.11/dist-packages (from requests) (2.3.0)\n",
            "Requirement already satisfied: certifi>=2017.4.17 in /usr/local/lib/python3.11/dist-packages (from requests) (2024.12.14)\n"
          ]
        }
      ],
      "source": [
        "!pip install requests"
      ]
    },
    {
      "cell_type": "code",
      "source": [
        "import requests\n",
        "import json\n",
        "\n",
        "# Define the Cal.com API endpoint\n",
        "url = \"https://api.cal.com/v2/bookings\"\n",
        "\n",
        "# Event booking details\n",
        "payload = json.dumps({\n",
        "    \"start\": \"2025-06-25T05:30:00Z\",  # Replace with your desired date/time in UTC\n",
        "    \"eventTypeId\": 1720965,  # Replace with your event type ID from Cal.com\n",
        "    \"attendee\": {\n",
        "        \"name\": \"Thejaswi S\",  # Attendee's name\n",
        "        \"email\": \"thejaswi.somarajupalli@gmail.com\",  # Attendee's email\n",
        "        \"timeZone\": \"Asia/Kolkata\",  # Attendee's time zone\n",
        "        \"language\": \"en\"  # Preferred language\n",
        "    },\n",
        "    \"guests\": [\n",
        "        \"thejaswi.s13@gmail.com\"  # Additional guest email(s), if any\n",
        "    ]\n",
        "})\n",
        "\n",
        "# API Authorization and Headers\n",
        "headers = {\n",
        "    'Authorization': 'cal_live_9f1a9492d29b2acf63ce7ffad0961c68',  # Replace with your Cal.com API key\n",
        "    'Content-Type': 'application/json',\n",
        "    'cal-api-version': '2024-08-13'\n",
        "}\n",
        "\n",
        "# Make the POST request to schedule the booking\n",
        "response = requests.post(url, headers=headers, data=payload)\n",
        "\n",
        "# Handle the API response\n",
        "if response.status_code == 201:  # HTTP 201 indicates booking was successfully created\n",
        "    print(\"Booking created successfully!\")\n",
        "    print(json.dumps(response.json(), indent=4))  # Pretty-print the response JSON\n",
        "else:\n",
        "    print(\"Failed to create booking. Error:\")\n",
        "    print(f\"Status Code: {response.status_code}\")\n",
        "    print(json.dumps(response.json(), indent=4))  # Print the error details in a readable format"
      ],
      "metadata": {
        "colab": {
          "base_uri": "https://localhost:8080/"
        },
        "id": "Xqn72L--0ahZ",
        "outputId": "3323475d-d119-45b6-a1d2-bd79642eec2d"
      },
      "execution_count": null,
      "outputs": [
        {
          "output_type": "stream",
          "name": "stdout",
          "text": [
            "Booking created successfully!\n",
            "{\n",
            "    \"status\": \"success\",\n",
            "    \"data\": {\n",
            "        \"id\": 5519378,\n",
            "        \"uid\": \"9VhrJvQDpyhx1xvyzpe5ft\",\n",
            "        \"title\": \"meet123 between Thejaswi S and Thejaswi S\",\n",
            "        \"description\": \"\",\n",
            "        \"hosts\": [\n",
            "            {\n",
            "                \"id\": 1344028,\n",
            "                \"name\": \"Thejaswi S\",\n",
            "                \"username\": \"thejaswi-s-nifl97\",\n",
            "                \"timeZone\": \"Asia/Calcutta\"\n",
            "            }\n",
            "        ],\n",
            "        \"status\": \"accepted\",\n",
            "        \"start\": \"2025-06-25T05:30:00.000Z\",\n",
            "        \"end\": \"2025-06-25T06:00:00.000Z\",\n",
            "        \"duration\": 30,\n",
            "        \"eventTypeId\": 1720965,\n",
            "        \"eventType\": {\n",
            "            \"id\": 1720965,\n",
            "            \"slug\": \"meet\"\n",
            "        },\n",
            "        \"meetingUrl\": \"https://app.cal.com/video/9VhrJvQDpyhx1xvyzpe5ft\",\n",
            "        \"location\": \"https://app.cal.com/video/9VhrJvQDpyhx1xvyzpe5ft\",\n",
            "        \"absentHost\": false,\n",
            "        \"createdAt\": \"2025-01-27T12:58:31.781Z\",\n",
            "        \"metadata\": {},\n",
            "        \"attendees\": [\n",
            "            {\n",
            "                \"name\": \"Thejaswi S\",\n",
            "                \"email\": \"thejaswi.somarajupalli@gmail.com\",\n",
            "                \"timeZone\": \"Asia/Kolkata\",\n",
            "                \"language\": \"en\",\n",
            "                \"absent\": false\n",
            "            },\n",
            "            {\n",
            "                \"name\": \"\",\n",
            "                \"email\": \"thejaswi.s13@gmail.com\",\n",
            "                \"timeZone\": \"Asia/Kolkata\",\n",
            "                \"language\": \"en\",\n",
            "                \"absent\": false\n",
            "            }\n",
            "        ],\n",
            "        \"guests\": [\n",
            "            \"thejaswi.s13@gmail.com\"\n",
            "        ],\n",
            "        \"bookingFieldsResponses\": {\n",
            "            \"email\": \"thejaswi.somarajupalli@gmail.com\",\n",
            "            \"name\": \"Thejaswi S\",\n",
            "            \"guests\": [\n",
            "                \"thejaswi.s13@gmail.com\"\n",
            "            ]\n",
            "        }\n",
            "    }\n",
            "}\n"
          ]
        }
      ]
    }
  ]
}